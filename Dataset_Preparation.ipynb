{
  "nbformat": 4,
  "nbformat_minor": 0,
  "metadata": {
    "colab": {
      "name": "Dataset Preparation.ipynb",
      "provenance": [],
      "collapsed_sections": [],
      "toc_visible": true
    },
    "kernelspec": {
      "display_name": "Python 3",
      "name": "python3"
    },
    "language_info": {
      "name": "python"
    }
  },
  "cells": [
    {
      "cell_type": "markdown",
      "metadata": {
        "id": "m8VaeOL65TUt"
      },
      "source": [
        "#Dataset Preparation\n",
        "\n",
        "> Features to consider adding: Capacity utilisation/ Industrial production/ Real dividends from the S&P 500/ Personal savings as % of disposable income\n",
        "\n",
        "> By Wednesday/ Thursday -> Dataset with EDA & Feature engineering\n",
        "\n",
        "> By Monday/ Sunday week 11 -> Basic models with eval (standardise cross val+ eval metrics)\n",
        "\n",
        "\n",
        "\n",
        "\n",
        "\n"
      ]
    },
    {
      "cell_type": "markdown",
      "metadata": {
        "id": "0T8FSaSvBI2d"
      },
      "source": [
        "## Things to ask Denis about\n",
        "\n",
        "\n",
        "*   Double check on missing value imputation\n",
        "*   Imbalanced data (some start in 2005 some all the way back in 1950s)\n",
        "*   Stationarity\n",
        "*   Feature Selection\n",
        "*   Feature Scaling/ Standardisation Across Time (K Folds)\n",
        "\n"
      ]
    },
    {
      "cell_type": "code",
      "metadata": {
        "colab": {
          "base_uri": "https://localhost:8080/"
        },
        "id": "9fP8VDRZtylh",
        "outputId": "a679a3a1-5445-448d-8b24-374596cdf8bd"
      },
      "source": [
        "# Load libraries\n",
        "import pandas as pd\n",
        "import numpy as np\n",
        "import datetime\n",
        "import glob\n",
        "import os\n",
        "from datetime import datetime\n",
        "from functools import reduce\n",
        "from google.colab import drive \n",
        "drive.mount('/content/gdrive')"
      ],
      "execution_count": 2,
      "outputs": [
        {
          "output_type": "stream",
          "text": [
            "Mounted at /content/gdrive\n"
          ],
          "name": "stdout"
        }
      ]
    },
    {
      "cell_type": "code",
      "metadata": {
        "id": "uDjwGnolSdFl"
      },
      "source": [
        "raw_data = '/content/gdrive/My Drive/EC4308/Project/Code & Data/Data/Predictors'"
      ],
      "execution_count": 3,
      "outputs": []
    },
    {
      "cell_type": "markdown",
      "metadata": {
        "id": "42rr7PRduEpy"
      },
      "source": [
        "## 1) Pulling our raw Economic Data\n",
        "Most of our data was pulled from the St. Louis FED's database. However, given the limited historical data that they have on the S&P 500's index (only up to 2011-03-24), we decided to pull this indicator from Yahoo Finance using it's API since it contains data beginning in 1981.\n"
      ]
    },
    {
      "cell_type": "markdown",
      "metadata": {
        "id": "SOb8Yiu4MK70"
      },
      "source": [
        "### Pulling S&P 500 data from Yahoo Finance"
      ]
    },
    {
      "cell_type": "code",
      "metadata": {
        "id": "qpcGYalPMz6O"
      },
      "source": [
        "# !pip install yfinance"
      ],
      "execution_count": 4,
      "outputs": []
    },
    {
      "cell_type": "code",
      "metadata": {
        "id": "sgsYBeNGPu6B"
      },
      "source": [
        "# import yfinance as yf\n",
        "# sp500 = yf.Ticker(\"^GSPC\")\n",
        "# sp500_history = sp500.history(period='max', interval='1mo')"
      ],
      "execution_count": 5,
      "outputs": []
    },
    {
      "cell_type": "code",
      "metadata": {
        "id": "O8CaJrKpPxGt"
      },
      "source": [
        "# closing_values = sp500_history['Close']\n",
        "# sp500_closing_data = pd.DataFrame(closing_values).reset_index()"
      ],
      "execution_count": 6,
      "outputs": []
    },
    {
      "cell_type": "code",
      "metadata": {
        "id": "3oJSNqduRdXU"
      },
      "source": [
        "# Write data out to csv\n",
        "# sp500_closing_data.rename(columns={'Date' : 'DATE', 'Close' : 'CLOSE'}, inplace=True)\n",
        "# sp500_closing_data.to_csv('/content/gdrive/My Drive/EC4308/Project/Code & Data/Data/Predictors/SP500.csv', index=False)\n",
        "# sp500_closing_data.to_csv('/content/gdrive/Shared with me/EC4308/Project/Code & Data/Data/Predictors/abc.csv', index=False)"
      ],
      "execution_count": 7,
      "outputs": []
    },
    {
      "cell_type": "markdown",
      "metadata": {
        "id": "qsddUmcwMsmZ"
      },
      "source": [
        "### Pulling all data from our CSV files"
      ]
    },
    {
      "cell_type": "code",
      "metadata": {
        "id": "_KACN4VIu_BP"
      },
      "source": [
        "# Get all csv data paths\n",
        "filepaths = glob.glob(raw_data + \"/*.csv\")"
      ],
      "execution_count": 8,
      "outputs": []
    },
    {
      "cell_type": "code",
      "metadata": {
        "id": "QeJ0X3lFvrfj"
      },
      "source": [
        "# Read all csv data\n",
        "def read_all_csv(filepaths, names_map = {}, convert_datetime = True, date_colname = 'DATE') :\n",
        "    '''\n",
        "    filepaths: list of absolute filepaths to relevant .csv files.\n",
        "    names_map: mapping of names to be updated. (i.e. original: new)\n",
        "    convert_datetime: true/false as to whether there is a 'DATE' column that needs to be converted\n",
        "    '''\n",
        "    repo = {}\n",
        "    for i in filepaths:\n",
        "        filename = os.path.basename(i).split('.')[0]\n",
        "        if filename in names_map:\n",
        "            new_name = names_map[filename]\n",
        "            temp = pd.read_csv(i).rename(columns = {filename: new_name})\n",
        "            if convert_datetime:\n",
        "                try:\n",
        "                    temp[date_colname] = pd.to_datetime(temp[date_colname])\n",
        "                except KeyError:\n",
        "                    return 'Column %s not found!'%date_colname\n",
        "            repo[new_name] = temp\n",
        "        else:\n",
        "            temp = pd.read_csv(i)\n",
        "            if convert_datetime:\n",
        "                try:\n",
        "                    temp[date_colname] = pd.to_datetime(temp[date_colname])\n",
        "                except KeyError:\n",
        "                    return 'Column %s not found!'%date_colname\n",
        "            repo[filename] = temp\n",
        "    return repo"
      ],
      "execution_count": 9,
      "outputs": []
    },
    {
      "cell_type": "markdown",
      "metadata": {
        "id": "wBOFUTJ1xOHY"
      },
      "source": [
        "## 2) Tidying up our Raw Data\n",
        "###Dictionary of data in all_data\n",
        "\n",
        "1.   Labour Market - Non-farm Payrolls: PAYEMS\n",
        "2.   Monetary Policy - Fed Funds Rate: FEDFUNDS\n",
        "3.   Bond Markets - Treasury Bills:\n",
        "> *   3 month: 3MTB_SECONDARYMKT\n",
        "> *   1 year: GS1\n",
        "> *   5 year: GS5\n",
        "> *   10 year: GS10\n",
        "4.   Inflation: CPI\n",
        "5.   Debt:\n",
        "> *   Household: DEBT_HH\n",
        "> *   Public: DEBT_PUB\n",
        "6.   Stock Market SP500\n",
        "7.    Industrial Indices:\n",
        "> *   Industrial Production: INDPRO\n",
        "> *   Capacity Utilisation (Manufacturing): TCU\n",
        "9.   Unemployment Rate: UNRATE\n",
        "\n",
        "\n",
        "\n",
        "\n",
        "\n",
        "\n",
        "\n",
        "\n"
      ]
    },
    {
      "cell_type": "markdown",
      "metadata": {
        "id": "4u5Xb0zd3QlT"
      },
      "source": [
        "### Pull data"
      ]
    },
    {
      "cell_type": "code",
      "metadata": {
        "colab": {
          "base_uri": "https://localhost:8080/"
        },
        "id": "CzhXkusRw938",
        "outputId": "d9c527e6-5578-44c6-ab3a-85bed6e7c167"
      },
      "source": [
        "# Pull all data\n",
        "names_map = {'HDTGPDUSQ163N' : 'DEBT_HH', 'GFDEGDQ188S' : 'DEBT_PUB', 'CPALTT01USM657N' : 'CPI'}\n",
        "all_data = read_all_csv(filepaths, names_map)\n",
        "all_data.keys()"
      ],
      "execution_count": 10,
      "outputs": [
        {
          "output_type": "execute_result",
          "data": {
            "text/plain": [
              "dict_keys(['PAYEMS', 'FEDFUNDS', 'GS5', 'GS10', 'SP500', 'GS1', 'INDPRO', '3MTB_SECONDARYMKT', 'UNRATE', 'TCU', 'DEBT_HH', 'DEBT_PUB', 'CPI'])"
            ]
          },
          "metadata": {
            "tags": []
          },
          "execution_count": 10
        }
      ]
    },
    {
      "cell_type": "markdown",
      "metadata": {
        "id": "IAeo1d2dC69q"
      },
      "source": [
        "### Different time spans\n",
        "As observed from our raw data below, each indicator that we intend to use have different start dates. As such, we will need to constraint our time period and impute for any periods of 'missing data' for each of our candidate indicators. "
      ]
    },
    {
      "cell_type": "markdown",
      "metadata": {
        "id": "fYAKrXc3Eno8"
      },
      "source": [
        "#### PAYEMS - Non Farm Payrolls"
      ]
    },
    {
      "cell_type": "code",
      "metadata": {
        "colab": {
          "base_uri": "https://localhost:8080/"
        },
        "id": "0hzpTW99DmHi",
        "outputId": "478931b9-6850-4f5a-ee25-a8399e40b46a"
      },
      "source": [
        "payrolls = all_data['PAYEMS']\n",
        "payrolls_start = min(payrolls.DATE)\n",
        "payrolls_end = max(payrolls.DATE)\n",
        "print(\"Non farm payrolls starts on %s and ends on %s\"%(payrolls_start, payrolls_end))"
      ],
      "execution_count": 11,
      "outputs": [
        {
          "output_type": "stream",
          "text": [
            "Non farm payrolls starts on 1939-01-01 00:00:00 and ends on 2021-02-01 00:00:00\n"
          ],
          "name": "stdout"
        }
      ]
    },
    {
      "cell_type": "markdown",
      "metadata": {
        "id": "Ln0SkduCFTV9"
      },
      "source": [
        "#### FEDFUNDS - Fed Funds Rate"
      ]
    },
    {
      "cell_type": "code",
      "metadata": {
        "colab": {
          "base_uri": "https://localhost:8080/"
        },
        "id": "kOwZl1APFTWI",
        "outputId": "eb382eb2-c9a9-45b3-a407-d2a87730a66f"
      },
      "source": [
        "fedfunds = all_data['FEDFUNDS']\n",
        "fedfunds_start = min(fedfunds.DATE)\n",
        "fedfunds_end = max(fedfunds.DATE)\n",
        "print(\"Fed funds rate starts on %s and ends on %s\"%(fedfunds_start, fedfunds_end))"
      ],
      "execution_count": 12,
      "outputs": [
        {
          "output_type": "stream",
          "text": [
            "Fed funds rate starts on 1954-07-01 00:00:00 and ends on 2021-02-01 00:00:00\n"
          ],
          "name": "stdout"
        }
      ]
    },
    {
      "cell_type": "markdown",
      "metadata": {
        "id": "BG8q1oYhHKZd"
      },
      "source": [
        "#### Treasury Bills - 3 month, 1 year, 5 year & 10 year"
      ]
    },
    {
      "cell_type": "code",
      "metadata": {
        "colab": {
          "base_uri": "https://localhost:8080/"
        },
        "id": "jxRkJ9GYHKZp",
        "outputId": "6fd34ce1-5d8a-44ec-8237-c99810beeccb"
      },
      "source": [
        "three_month = all_data['3MTB_SECONDARYMKT']\n",
        "three_month_start = min(three_month.DATE)\n",
        "three_month_end = max(three_month.DATE)\n",
        "print(\"3 month treasury bill rate starts on %s and ends on %s\"%(three_month_start, three_month_end))"
      ],
      "execution_count": 13,
      "outputs": [
        {
          "output_type": "stream",
          "text": [
            "3 month treasury bill rate starts on 1934-01-01 00:00:00 and ends on 2021-02-01 00:00:00\n"
          ],
          "name": "stdout"
        }
      ]
    },
    {
      "cell_type": "code",
      "metadata": {
        "colab": {
          "base_uri": "https://localhost:8080/",
          "height": 423
        },
        "id": "ep5YRZTmHfFH",
        "outputId": "e194d54f-9aea-4517-d913-72af1579617b"
      },
      "source": [
        "one_year = all_data['GS1']\n",
        "one_year_start = min(one_year.DATE)\n",
        "one_year_end = max(one_year.DATE)\n",
        "print(\"1 year treasury bill starts on %s and ends on %s\"%(one_year_start, one_year_end))\n",
        "one_year[one_year.DATE > datetime.strptime('2001-01-01', '%Y-%m-%d')]"
      ],
      "execution_count": 14,
      "outputs": [
        {
          "output_type": "stream",
          "text": [
            "1 year treasury bill starts on 1953-04-01 00:00:00 and ends on 2021-02-01 00:00:00\n"
          ],
          "name": "stdout"
        },
        {
          "output_type": "execute_result",
          "data": {
            "text/html": [
              "<div>\n",
              "<style scoped>\n",
              "    .dataframe tbody tr th:only-of-type {\n",
              "        vertical-align: middle;\n",
              "    }\n",
              "\n",
              "    .dataframe tbody tr th {\n",
              "        vertical-align: top;\n",
              "    }\n",
              "\n",
              "    .dataframe thead th {\n",
              "        text-align: right;\n",
              "    }\n",
              "</style>\n",
              "<table border=\"1\" class=\"dataframe\">\n",
              "  <thead>\n",
              "    <tr style=\"text-align: right;\">\n",
              "      <th></th>\n",
              "      <th>DATE</th>\n",
              "      <th>GS1</th>\n",
              "    </tr>\n",
              "  </thead>\n",
              "  <tbody>\n",
              "    <tr>\n",
              "      <th>574</th>\n",
              "      <td>2001-02-01</td>\n",
              "      <td>4.68</td>\n",
              "    </tr>\n",
              "    <tr>\n",
              "      <th>575</th>\n",
              "      <td>2001-03-01</td>\n",
              "      <td>4.30</td>\n",
              "    </tr>\n",
              "    <tr>\n",
              "      <th>576</th>\n",
              "      <td>2001-04-01</td>\n",
              "      <td>3.98</td>\n",
              "    </tr>\n",
              "    <tr>\n",
              "      <th>577</th>\n",
              "      <td>2001-05-01</td>\n",
              "      <td>3.78</td>\n",
              "    </tr>\n",
              "    <tr>\n",
              "      <th>578</th>\n",
              "      <td>2001-06-01</td>\n",
              "      <td>3.58</td>\n",
              "    </tr>\n",
              "    <tr>\n",
              "      <th>...</th>\n",
              "      <td>...</td>\n",
              "      <td>...</td>\n",
              "    </tr>\n",
              "    <tr>\n",
              "      <th>810</th>\n",
              "      <td>2020-10-01</td>\n",
              "      <td>0.13</td>\n",
              "    </tr>\n",
              "    <tr>\n",
              "      <th>811</th>\n",
              "      <td>2020-11-01</td>\n",
              "      <td>0.12</td>\n",
              "    </tr>\n",
              "    <tr>\n",
              "      <th>812</th>\n",
              "      <td>2020-12-01</td>\n",
              "      <td>0.10</td>\n",
              "    </tr>\n",
              "    <tr>\n",
              "      <th>813</th>\n",
              "      <td>2021-01-01</td>\n",
              "      <td>0.10</td>\n",
              "    </tr>\n",
              "    <tr>\n",
              "      <th>814</th>\n",
              "      <td>2021-02-01</td>\n",
              "      <td>0.07</td>\n",
              "    </tr>\n",
              "  </tbody>\n",
              "</table>\n",
              "<p>241 rows × 2 columns</p>\n",
              "</div>"
            ],
            "text/plain": [
              "          DATE   GS1\n",
              "574 2001-02-01  4.68\n",
              "575 2001-03-01  4.30\n",
              "576 2001-04-01  3.98\n",
              "577 2001-05-01  3.78\n",
              "578 2001-06-01  3.58\n",
              "..         ...   ...\n",
              "810 2020-10-01  0.13\n",
              "811 2020-11-01  0.12\n",
              "812 2020-12-01  0.10\n",
              "813 2021-01-01  0.10\n",
              "814 2021-02-01  0.07\n",
              "\n",
              "[241 rows x 2 columns]"
            ]
          },
          "metadata": {
            "tags": []
          },
          "execution_count": 14
        }
      ]
    },
    {
      "cell_type": "code",
      "metadata": {
        "colab": {
          "base_uri": "https://localhost:8080/"
        },
        "id": "-g7H4Y22HvvD",
        "outputId": "1631ff32-37ac-4785-8279-17abd9ec889a"
      },
      "source": [
        "five_year = all_data['GS5']\n",
        "five_year_start = min(five_year.DATE)\n",
        "five_year_end = max(five_year.DATE)\n",
        "print(\"5 year treasury bill starts on %s and ends on %s\"%(five_year_start, five_year_end))"
      ],
      "execution_count": 15,
      "outputs": [
        {
          "output_type": "stream",
          "text": [
            "5 year treasury bill starts on 1953-04-01 00:00:00 and ends on 2021-02-01 00:00:00\n"
          ],
          "name": "stdout"
        }
      ]
    },
    {
      "cell_type": "code",
      "metadata": {
        "colab": {
          "base_uri": "https://localhost:8080/"
        },
        "id": "oaWX5e_OH5Xn",
        "outputId": "dc126905-f2c5-4723-be84-7993c68b8658"
      },
      "source": [
        "ten_year = all_data['GS10']\n",
        "ten_year_start = min(ten_year.DATE)\n",
        "ten_year_end = max(ten_year.DATE)\n",
        "print(\"10 year treasury bill starts on %s and ends on %s\"%(ten_year_start, ten_year_end))"
      ],
      "execution_count": 16,
      "outputs": [
        {
          "output_type": "stream",
          "text": [
            "10 year treasury bill starts on 1953-04-01 00:00:00 and ends on 2021-02-01 00:00:00\n"
          ],
          "name": "stdout"
        }
      ]
    },
    {
      "cell_type": "markdown",
      "metadata": {
        "id": "uoWWD4Q3IEEn"
      },
      "source": [
        "#### CPI - Inflation"
      ]
    },
    {
      "cell_type": "code",
      "metadata": {
        "colab": {
          "base_uri": "https://localhost:8080/"
        },
        "id": "azkPQeAXIBh0",
        "outputId": "1697fdd9-6c3d-4934-cc27-159c4badab3d"
      },
      "source": [
        "cpi = all_data['CPI']\n",
        "cpi_start = min(cpi.DATE)\n",
        "cpi_end = max(cpi.DATE)\n",
        "print(\"CPI starts on %s and ends on %s\"%(cpi_start, cpi_end))"
      ],
      "execution_count": 17,
      "outputs": [
        {
          "output_type": "stream",
          "text": [
            "CPI starts on 1960-01-01 00:00:00 and ends on 2021-01-01 00:00:00\n"
          ],
          "name": "stdout"
        }
      ]
    },
    {
      "cell_type": "markdown",
      "metadata": {
        "id": "XxDIAkk2IaOi"
      },
      "source": [
        "#### Debt - Public & Household"
      ]
    },
    {
      "cell_type": "code",
      "metadata": {
        "colab": {
          "base_uri": "https://localhost:8080/"
        },
        "id": "tfP8XlnBIaOl",
        "outputId": "efac6c29-20be-4f50-e6de-4ab476d8f6d8"
      },
      "source": [
        "debt_pub = all_data['DEBT_PUB']\n",
        "debt_pub_start = min(debt_pub.DATE)\n",
        "debt_pub_end = max(debt_pub.DATE)\n",
        "print(\"Public debt starts on %s and ends on %s\"%(debt_pub_start, debt_pub_end))"
      ],
      "execution_count": 18,
      "outputs": [
        {
          "output_type": "stream",
          "text": [
            "Public debt starts on 1966-01-01 00:00:00 and ends on 2020-07-01 00:00:00\n"
          ],
          "name": "stdout"
        }
      ]
    },
    {
      "cell_type": "code",
      "metadata": {
        "colab": {
          "base_uri": "https://localhost:8080/"
        },
        "id": "ITxq-L7hIra5",
        "outputId": "3a9ca33d-201e-4501-d8e5-f80daf047f67"
      },
      "source": [
        "debt_hh = all_data['DEBT_HH']\n",
        "debt_hh_start = min(debt_hh.DATE)\n",
        "debt_hh_end = max(debt_hh.DATE)\n",
        "print(\"Household debt starts on %s and ends on %s\"%(debt_hh_start, debt_hh_end))"
      ],
      "execution_count": 19,
      "outputs": [
        {
          "output_type": "stream",
          "text": [
            "Household debt starts on 2005-01-01 00:00:00 and ends on 2020-07-01 00:00:00\n"
          ],
          "name": "stdout"
        }
      ]
    },
    {
      "cell_type": "markdown",
      "metadata": {
        "id": "mWRuRrWRIz4p"
      },
      "source": [
        "#### S&P 500 - Stock market"
      ]
    },
    {
      "cell_type": "code",
      "metadata": {
        "colab": {
          "base_uri": "https://localhost:8080/"
        },
        "id": "Y86LesgRI3lX",
        "outputId": "bfcff4a9-6d22-480f-b103-a8fbd2f3f0f6"
      },
      "source": [
        "sp500 = all_data['SP500']\n",
        "sp500_start = min(sp500.DATE)\n",
        "sp500_end = max(sp500.DATE)\n",
        "print(\"Household debt starts on %s and ends on %s\"%(sp500_start, sp500_end))"
      ],
      "execution_count": 20,
      "outputs": [
        {
          "output_type": "stream",
          "text": [
            "Household debt starts on 1985-01-01 00:00:00 and ends on 2021-03-30 00:00:00\n"
          ],
          "name": "stdout"
        }
      ]
    },
    {
      "cell_type": "markdown",
      "metadata": {
        "id": "20yTuLOak517"
      },
      "source": [
        "#### Industrial Production (Total Index)\n",
        "The Industrial Production Index (INDPRO) is an economic indicator that measures real output for all facilities located in the United States manufacturing, mining, and electric, and gas utilities (excluding those in U.S. territories)."
      ]
    },
    {
      "cell_type": "code",
      "metadata": {
        "colab": {
          "base_uri": "https://localhost:8080/"
        },
        "id": "YuHLb3gvk52H",
        "outputId": "0f215b13-58ef-430c-bf5e-a0fef172816f"
      },
      "source": [
        "indpro = all_data['INDPRO']\n",
        "indpro_start = min(indpro.DATE)\n",
        "indpro_end = max(indpro.DATE)\n",
        "print(\"Industrial production (INDPRO) starts on %s and ends on %s\"%(indpro_start, indpro_end))"
      ],
      "execution_count": 21,
      "outputs": [
        {
          "output_type": "stream",
          "text": [
            "Industrial production (INDPRO) starts on 1919-01-01 00:00:00 and ends on 2021-02-01 00:00:00\n"
          ],
          "name": "stdout"
        }
      ]
    },
    {
      "cell_type": "markdown",
      "metadata": {
        "id": "kgXuKwDuk6Mp"
      },
      "source": [
        "#### Capacity utilisation \n",
        "Capacity Utilization: Total Industry (TCU) is the percentage of resources used by corporations and factories to produce goods in manufacturing, mining, and electric and gas utilities for all facilities located in the United States (excluding those in U.S. territories).\n",
        "\n",
        " We can also think of capacity utilization as how much capacity is being used from the total available capacity to produce demanded finished products.\n",
        "\n",
        "*Note: We use the total index instead of just the manufacturing index as the total index is richer and spans further back in time. Further, the total index exhibits similar behaviour to the manufacturing index, though the latter likely to be more sensitive to recessionary undercurrents leading up to the actual recession.*"
      ]
    },
    {
      "cell_type": "code",
      "metadata": {
        "colab": {
          "base_uri": "https://localhost:8080/"
        },
        "id": "ChkTraNmk6Mp",
        "outputId": "adf0fe4b-2afd-4f90-9d01-99de4aea497c"
      },
      "source": [
        "caputil = all_data['TCU']\n",
        "caputil_start = min(caputil.DATE)\n",
        "caputil_end = max(caputil.DATE)\n",
        "print(\"Capacity utilisation (Total) starts on %s and ends on %s\"%(caputil_start, caputil_end))"
      ],
      "execution_count": 22,
      "outputs": [
        {
          "output_type": "stream",
          "text": [
            "Capacity utilisation (Total) starts on 1967-01-01 00:00:00 and ends on 2021-02-01 00:00:00\n"
          ],
          "name": "stdout"
        }
      ]
    },
    {
      "cell_type": "markdown",
      "metadata": {
        "id": "fJYPmUuJk7TB"
      },
      "source": [
        "#### Unemployment Rate"
      ]
    },
    {
      "cell_type": "code",
      "metadata": {
        "colab": {
          "base_uri": "https://localhost:8080/"
        },
        "id": "zoHy7VLzk7TC",
        "outputId": "ce27e8fa-1993-4e33-9c7e-b7e263cff48b"
      },
      "source": [
        "unrate = all_data['UNRATE']\n",
        "unrate_start = min(unrate.DATE)\n",
        "unrate_end = max(unrate.DATE)\n",
        "print(\"Unemployment rate starts on %s and ends on %s\"%(unrate_start, unrate_end))"
      ],
      "execution_count": 23,
      "outputs": [
        {
          "output_type": "stream",
          "text": [
            "Unemployment rate starts on 1948-01-01 00:00:00 and ends on 2021-02-01 00:00:00\n"
          ],
          "name": "stdout"
        }
      ]
    },
    {
      "cell_type": "markdown",
      "metadata": {
        "id": "8zaYZmpcJOPE"
      },
      "source": [
        "In order to retain as much information as possible with respect to the number of variables included and the number of obseravtions included, we have decided to select 1966-01-01 ~ 2020-02-01 as the period of time for which we will perform predictive modelling upon. As such, we are able to retain most of our 10 candidate (sans Household debt and S&P 500 information), whilst capturing the 8 most recent recessions to ever occur in the U.S. (see [here](https://www.investopedia.com/articles/economics/08/past-recessions.asp) for details) "
      ]
    },
    {
      "cell_type": "markdown",
      "metadata": {
        "id": "sgQUvpPp3KSH"
      },
      "source": [
        "### Augment labels for quarterly data\n",
        "#### Household Debt"
      ]
    },
    {
      "cell_type": "code",
      "metadata": {
        "colab": {
          "base_uri": "https://localhost:8080/",
          "height": 406
        },
        "id": "fVKFIdZCV37J",
        "outputId": "bc1582e1-bece-462d-9f94-1ce1074be7d5"
      },
      "source": [
        "# Create augmented idx for gaps in date for quarterly data\n",
        "augmented_idx = pd.date_range(start=min(debt_hh.DATE), end=max(debt_hh.DATE), freq='MS') # month start\n",
        "# Augment Quarterly Household Debt Data\n",
        "df_temp = pd.DataFrame(debt_hh.DATE, index=augmented_idx)\n",
        "df_temp = df_temp.reset_index().rename(columns={'index' : 'DATE', 'DATE' : 'DEBT_HH'})\n",
        "# Combined data\n",
        "df_temp2 = pd.merge(df_temp, debt_hh, on='DATE', how='left').sort_values(by=['DATE']).drop(columns=['DEBT_HH_x']).rename(columns={'DEBT_HH_y' : 'DEBT_HH'})\n",
        "df_temp2['DEBT_HH'] = df_temp2['DEBT_HH'].fillna(method='ffill')\n",
        "df_temp2"
      ],
      "execution_count": 24,
      "outputs": [
        {
          "output_type": "execute_result",
          "data": {
            "text/html": [
              "<div>\n",
              "<style scoped>\n",
              "    .dataframe tbody tr th:only-of-type {\n",
              "        vertical-align: middle;\n",
              "    }\n",
              "\n",
              "    .dataframe tbody tr th {\n",
              "        vertical-align: top;\n",
              "    }\n",
              "\n",
              "    .dataframe thead th {\n",
              "        text-align: right;\n",
              "    }\n",
              "</style>\n",
              "<table border=\"1\" class=\"dataframe\">\n",
              "  <thead>\n",
              "    <tr style=\"text-align: right;\">\n",
              "      <th></th>\n",
              "      <th>DATE</th>\n",
              "      <th>DEBT_HH</th>\n",
              "    </tr>\n",
              "  </thead>\n",
              "  <tbody>\n",
              "    <tr>\n",
              "      <th>0</th>\n",
              "      <td>2005-01-01</td>\n",
              "      <td>88.405</td>\n",
              "    </tr>\n",
              "    <tr>\n",
              "      <th>1</th>\n",
              "      <td>2005-02-01</td>\n",
              "      <td>88.405</td>\n",
              "    </tr>\n",
              "    <tr>\n",
              "      <th>2</th>\n",
              "      <td>2005-03-01</td>\n",
              "      <td>88.405</td>\n",
              "    </tr>\n",
              "    <tr>\n",
              "      <th>3</th>\n",
              "      <td>2005-04-01</td>\n",
              "      <td>89.961</td>\n",
              "    </tr>\n",
              "    <tr>\n",
              "      <th>4</th>\n",
              "      <td>2005-05-01</td>\n",
              "      <td>89.961</td>\n",
              "    </tr>\n",
              "    <tr>\n",
              "      <th>...</th>\n",
              "      <td>...</td>\n",
              "      <td>...</td>\n",
              "    </tr>\n",
              "    <tr>\n",
              "      <th>182</th>\n",
              "      <td>2020-03-01</td>\n",
              "      <td>76.450</td>\n",
              "    </tr>\n",
              "    <tr>\n",
              "      <th>183</th>\n",
              "      <td>2020-04-01</td>\n",
              "      <td>84.672</td>\n",
              "    </tr>\n",
              "    <tr>\n",
              "      <th>184</th>\n",
              "      <td>2020-05-01</td>\n",
              "      <td>84.672</td>\n",
              "    </tr>\n",
              "    <tr>\n",
              "      <th>185</th>\n",
              "      <td>2020-06-01</td>\n",
              "      <td>84.672</td>\n",
              "    </tr>\n",
              "    <tr>\n",
              "      <th>186</th>\n",
              "      <td>2020-07-01</td>\n",
              "      <td>79.360</td>\n",
              "    </tr>\n",
              "  </tbody>\n",
              "</table>\n",
              "<p>187 rows × 2 columns</p>\n",
              "</div>"
            ],
            "text/plain": [
              "          DATE  DEBT_HH\n",
              "0   2005-01-01   88.405\n",
              "1   2005-02-01   88.405\n",
              "2   2005-03-01   88.405\n",
              "3   2005-04-01   89.961\n",
              "4   2005-05-01   89.961\n",
              "..         ...      ...\n",
              "182 2020-03-01   76.450\n",
              "183 2020-04-01   84.672\n",
              "184 2020-05-01   84.672\n",
              "185 2020-06-01   84.672\n",
              "186 2020-07-01   79.360\n",
              "\n",
              "[187 rows x 2 columns]"
            ]
          },
          "metadata": {
            "tags": []
          },
          "execution_count": 24
        }
      ]
    },
    {
      "cell_type": "code",
      "metadata": {
        "id": "3tw_3Uv8fwvZ"
      },
      "source": [
        "# Update all_data\n",
        "all_data['DEBT_HH'] = df_temp2"
      ],
      "execution_count": 25,
      "outputs": []
    },
    {
      "cell_type": "markdown",
      "metadata": {
        "id": "q6SAGtN5fJ0o"
      },
      "source": [
        "#### Public Debt"
      ]
    },
    {
      "cell_type": "code",
      "metadata": {
        "colab": {
          "base_uri": "https://localhost:8080/",
          "height": 406
        },
        "id": "yHVSFuvffNHT",
        "outputId": "cd68589a-e7ed-41ae-f6bf-7e11128f93b3"
      },
      "source": [
        "# Create augmented idx for gaps in date for quarterly data\n",
        "augmented_idx = pd.date_range(start=min(debt_pub.DATE), end=max(debt_pub.DATE), freq='MS') # month start\n",
        "# Augment Quarterly Public Debt Data\n",
        "df_temp = pd.DataFrame(debt_pub.DATE, index=augmented_idx)\n",
        "df_temp = df_temp.reset_index().rename(columns={'index' : 'DATE', 'DATE' : 'DEBT_PUB'})\n",
        "# Combined data\n",
        "df_temp2 = pd.merge(df_temp, debt_pub, on='DATE', how='left').sort_values(by=['DATE']).drop(columns=['DEBT_PUB_x']).rename(columns={'DEBT_PUB_y' : 'DEBT_PUB'})\n",
        "df_temp2['DEBT_PUB'] = df_temp2['DEBT_PUB'].fillna(method='ffill')\n",
        "df_temp2"
      ],
      "execution_count": 26,
      "outputs": [
        {
          "output_type": "execute_result",
          "data": {
            "text/html": [
              "<div>\n",
              "<style scoped>\n",
              "    .dataframe tbody tr th:only-of-type {\n",
              "        vertical-align: middle;\n",
              "    }\n",
              "\n",
              "    .dataframe tbody tr th {\n",
              "        vertical-align: top;\n",
              "    }\n",
              "\n",
              "    .dataframe thead th {\n",
              "        text-align: right;\n",
              "    }\n",
              "</style>\n",
              "<table border=\"1\" class=\"dataframe\">\n",
              "  <thead>\n",
              "    <tr style=\"text-align: right;\">\n",
              "      <th></th>\n",
              "      <th>DATE</th>\n",
              "      <th>DEBT_PUB</th>\n",
              "    </tr>\n",
              "  </thead>\n",
              "  <tbody>\n",
              "    <tr>\n",
              "      <th>0</th>\n",
              "      <td>1966-01-01</td>\n",
              "      <td>40.33999</td>\n",
              "    </tr>\n",
              "    <tr>\n",
              "      <th>1</th>\n",
              "      <td>1966-02-01</td>\n",
              "      <td>40.33999</td>\n",
              "    </tr>\n",
              "    <tr>\n",
              "      <th>2</th>\n",
              "      <td>1966-03-01</td>\n",
              "      <td>40.33999</td>\n",
              "    </tr>\n",
              "    <tr>\n",
              "      <th>3</th>\n",
              "      <td>1966-04-01</td>\n",
              "      <td>39.26763</td>\n",
              "    </tr>\n",
              "    <tr>\n",
              "      <th>4</th>\n",
              "      <td>1966-05-01</td>\n",
              "      <td>39.26763</td>\n",
              "    </tr>\n",
              "    <tr>\n",
              "      <th>...</th>\n",
              "      <td>...</td>\n",
              "      <td>...</td>\n",
              "    </tr>\n",
              "    <tr>\n",
              "      <th>650</th>\n",
              "      <td>2020-03-01</td>\n",
              "      <td>107.71144</td>\n",
              "    </tr>\n",
              "    <tr>\n",
              "      <th>651</th>\n",
              "      <td>2020-04-01</td>\n",
              "      <td>135.64081</td>\n",
              "    </tr>\n",
              "    <tr>\n",
              "      <th>652</th>\n",
              "      <td>2020-05-01</td>\n",
              "      <td>135.64081</td>\n",
              "    </tr>\n",
              "    <tr>\n",
              "      <th>653</th>\n",
              "      <td>2020-06-01</td>\n",
              "      <td>135.64081</td>\n",
              "    </tr>\n",
              "    <tr>\n",
              "      <th>654</th>\n",
              "      <td>2020-07-01</td>\n",
              "      <td>127.27950</td>\n",
              "    </tr>\n",
              "  </tbody>\n",
              "</table>\n",
              "<p>655 rows × 2 columns</p>\n",
              "</div>"
            ],
            "text/plain": [
              "          DATE   DEBT_PUB\n",
              "0   1966-01-01   40.33999\n",
              "1   1966-02-01   40.33999\n",
              "2   1966-03-01   40.33999\n",
              "3   1966-04-01   39.26763\n",
              "4   1966-05-01   39.26763\n",
              "..         ...        ...\n",
              "650 2020-03-01  107.71144\n",
              "651 2020-04-01  135.64081\n",
              "652 2020-05-01  135.64081\n",
              "653 2020-06-01  135.64081\n",
              "654 2020-07-01  127.27950\n",
              "\n",
              "[655 rows x 2 columns]"
            ]
          },
          "metadata": {
            "tags": []
          },
          "execution_count": 26
        }
      ]
    },
    {
      "cell_type": "code",
      "metadata": {
        "id": "UJ2d7DFAfm2B"
      },
      "source": [
        "# Update all_data\n",
        "all_data['DEBT_PUB'] = df_temp2"
      ],
      "execution_count": 27,
      "outputs": []
    },
    {
      "cell_type": "markdown",
      "metadata": {
        "id": "Uh_h0AWqgK-t"
      },
      "source": [
        "#### Write augmented data"
      ]
    },
    {
      "cell_type": "code",
      "metadata": {
        "id": "rY27_BLHgNsk"
      },
      "source": [
        "# all_data['DEBT_PUB'].to_csv(os.path.join(raw_data, '/DEBT_PUB.csv'), index=False)\n",
        "# all_data['DEBT_HH'].to_csv(os.path.join(raw_data, '/DEBT_HH.csv'), index=False)"
      ],
      "execution_count": 28,
      "outputs": []
    },
    {
      "cell_type": "markdown",
      "metadata": {
        "id": "8bZAST0NLoGi"
      },
      "source": [
        "### Constraining our dataset\n",
        "\n",
        "\n",
        "*  Get all observations between 1966 ~ 2020 across all indicators\n",
        "*  Impute values for indicators with gaps in observations (i.e. no data before 1985) \n",
        "\n",
        "#### Sufficient Data"
      ]
    },
    {
      "cell_type": "code",
      "metadata": {
        "id": "9hGgJKI2g3BN"
      },
      "source": [
        "# Store for updated data\n",
        "updated_data = []\n",
        "\n",
        "# Define our start date\n",
        "start_date = datetime.strptime(\"01-01-1966\", '%d-%m-%Y')\n",
        "end_date = datetime.strptime(\"01-02-2020\", '%d-%m-%Y')\n",
        "\n",
        "# Sufficient data\n",
        "payroll_1966 = all_data['PAYEMS'][(all_data['PAYEMS'].DATE >= start_date) & (all_data['PAYEMS'].DATE  <= end_date)]\n",
        "fedfunds_1966 = all_data['FEDFUNDS'][(all_data['FEDFUNDS'].DATE >= start_date) & (all_data['FEDFUNDS'].DATE  <= end_date)]\n",
        "threemonth_1966 = all_data['3MTB_SECONDARYMKT'][(all_data['3MTB_SECONDARYMKT'].DATE >= start_date) & (all_data['3MTB_SECONDARYMKT'].DATE  <= end_date)]\n",
        "oneyear_1966 = all_data['GS1'][(all_data['GS1'].DATE >= start_date) & (all_data['GS1'].DATE  <= end_date)]\n",
        "fiveyear_1966 = all_data['GS5'][(all_data['GS5'].DATE >= start_date) & (all_data['GS5'].DATE  <= end_date)]\n",
        "tenyear_1966 = all_data['GS10'][(all_data['GS10'].DATE >= start_date) & (all_data['GS10'].DATE  <= end_date)]\n",
        "cpi_1966 = all_data['CPI'][(all_data['CPI'].DATE >= start_date) & (all_data['CPI'].DATE  <= end_date)]\n",
        "debtpub_1966 = all_data['DEBT_PUB'][(all_data['DEBT_PUB'].DATE >= start_date) & (all_data['DEBT_PUB'].DATE  <= end_date)]\n",
        "indpro_1996 = all_data['INDPRO'][(all_data['INDPRO'].DATE >= start_date) & (all_data['INDPRO'].DATE <= end_date)]\n",
        "unrate_1996 = all_data['UNRATE'][(all_data['UNRATE'].DATE >= start_date) & (all_data['UNRATE'].DATE <= end_date)]"
      ],
      "execution_count": 29,
      "outputs": []
    },
    {
      "cell_type": "markdown",
      "metadata": {
        "id": "FUQlmVUoZiyA"
      },
      "source": [
        "#### Insufficient Data"
      ]
    },
    {
      "cell_type": "code",
      "metadata": {
        "id": "dAmyIVTDZiWq"
      },
      "source": [
        "# Augmented time index\n",
        "augmented_idx= pd.date_range(start=start_date, end=max(all_data['DEBT_HH'].DATE), freq='MS') # month start"
      ],
      "execution_count": 30,
      "outputs": []
    },
    {
      "cell_type": "code",
      "metadata": {
        "id": "ClLnckmjZdAU"
      },
      "source": [
        "# Total capacity utilisation\n",
        "caputil_1996 = pd.DataFrame(all_data['TCU'].DATE, index=augmented_idx).reset_index().rename(columns={'index': 'DATE', 'DATE':'values'})\n",
        "caputil_1996 = pd.merge(caputil_1996, all_data['TCU'], on=['DATE'], how='left').drop(columns=['values']).fillna(0)\n",
        "caputil_1996 = caputil_1996[caputil_1996.DATE <= end_date]"
      ],
      "execution_count": 44,
      "outputs": []
    },
    {
      "cell_type": "code",
      "metadata": {
        "id": "OoW4XY3_kwgd"
      },
      "source": [
        "# Household debt\n",
        "debthh_1966 = pd.DataFrame(all_data['DEBT_HH'].DATE, index=augmented_idx).reset_index().rename(columns={'index': 'DATE', 'DATE':'values'})\n",
        "debthh_1966 = pd.merge(debthh_1966, all_data['DEBT_HH'], on=['DATE'], how='left').drop(columns=['values']).fillna(0)\n",
        "debthh_1966 = debthh_1966[debthh_1966.DATE <= end_date]"
      ],
      "execution_count": 32,
      "outputs": []
    },
    {
      "cell_type": "code",
      "metadata": {
        "id": "rkUJsJ-mitl1"
      },
      "source": [
        "# SP500\n",
        "sp500_1966 = pd.DataFrame(all_data['SP500'].DATE, index=augmented_idx).reset_index().rename(columns={'index': 'DATE', 'DATE':'values'})\n",
        "sp500_1966 = pd.merge(sp500_1966, all_data['SP500'], on=['DATE'], how='left').drop(columns=['values']).fillna(0)\n",
        "sp500_1966 = sp500_1966[sp500_1966.DATE <= end_date]\n",
        "sp500_1966.rename(columns={'CLOSE':'SP500'}, inplace=True)"
      ],
      "execution_count": 33,
      "outputs": []
    },
    {
      "cell_type": "markdown",
      "metadata": {
        "id": "wQ5vvU3ZnJVb"
      },
      "source": [
        "#### Update data"
      ]
    },
    {
      "cell_type": "code",
      "metadata": {
        "id": "oDUXjDgunI18"
      },
      "source": [
        "updated_data.extend((payroll_1966, fedfunds_1966, threemonth_1966, oneyear_1966, fiveyear_1966, tenyear_1966, cpi_1966, debtpub_1966, debthh_1966, sp500_1966, indpro_1996, caputil_1996, unrate_1996))"
      ],
      "execution_count": 34,
      "outputs": []
    },
    {
      "cell_type": "markdown",
      "metadata": {
        "id": "_uyH2K6z9gIs"
      },
      "source": [
        "## 3) Creating our Raw Dataset"
      ]
    },
    {
      "cell_type": "code",
      "metadata": {
        "id": "wpQJ1vBB9ffT"
      },
      "source": [
        "# combine data (is there a better way than this lol) -> pd.concat()\n",
        "def create_data(datasets, key = 'DATE'):\n",
        "    '''\n",
        "    Combines datasets into a single dataset on a single given key.\n",
        "    datasets: list of datasets to be concatenated.\n",
        "    key: Defaults to DATE.\n",
        "    '''\n",
        "    if type(datasets) is dict:\n",
        "        datasets = list(datasets.values())\n",
        "    final_df = reduce(lambda left, right: pd.merge(left, right, on=key, how='inner'), datasets).replace({'.': np.nan})\n",
        "    return final_df"
      ],
      "execution_count": 35,
      "outputs": []
    },
    {
      "cell_type": "code",
      "metadata": {
        "colab": {
          "base_uri": "https://localhost:8080/",
          "height": 197
        },
        "id": "jbJSv7MHzHFR",
        "outputId": "aa8ba7cc-6a9b-460f-9bf5-8bd3d1e270aa"
      },
      "source": [
        "final = create_data(updated_data)\n",
        "final.head()"
      ],
      "execution_count": 36,
      "outputs": [
        {
          "output_type": "execute_result",
          "data": {
            "text/html": [
              "<div>\n",
              "<style scoped>\n",
              "    .dataframe tbody tr th:only-of-type {\n",
              "        vertical-align: middle;\n",
              "    }\n",
              "\n",
              "    .dataframe tbody tr th {\n",
              "        vertical-align: top;\n",
              "    }\n",
              "\n",
              "    .dataframe thead th {\n",
              "        text-align: right;\n",
              "    }\n",
              "</style>\n",
              "<table border=\"1\" class=\"dataframe\">\n",
              "  <thead>\n",
              "    <tr style=\"text-align: right;\">\n",
              "      <th></th>\n",
              "      <th>DATE</th>\n",
              "      <th>PAYEMS</th>\n",
              "      <th>FEDFUNDS</th>\n",
              "      <th>3MTB_SECONDARYMKT</th>\n",
              "      <th>GS1</th>\n",
              "      <th>GS5</th>\n",
              "      <th>GS10</th>\n",
              "      <th>CPI</th>\n",
              "      <th>DEBT_PUB</th>\n",
              "      <th>DEBT_HH</th>\n",
              "      <th>SP500</th>\n",
              "      <th>INDPRO</th>\n",
              "      <th>TCU</th>\n",
              "      <th>UNRATE</th>\n",
              "    </tr>\n",
              "  </thead>\n",
              "  <tbody>\n",
              "    <tr>\n",
              "      <th>0</th>\n",
              "      <td>1966-01-01</td>\n",
              "      <td>62529</td>\n",
              "      <td>4.42</td>\n",
              "      <td>4.59</td>\n",
              "      <td>4.88</td>\n",
              "      <td>4.86</td>\n",
              "      <td>4.61</td>\n",
              "      <td>0.000000</td>\n",
              "      <td>40.33999</td>\n",
              "      <td>0.0</td>\n",
              "      <td>0.0</td>\n",
              "      <td>34.1729</td>\n",
              "      <td>0.0</td>\n",
              "      <td>4.0</td>\n",
              "    </tr>\n",
              "    <tr>\n",
              "      <th>1</th>\n",
              "      <td>1966-02-01</td>\n",
              "      <td>62796</td>\n",
              "      <td>4.60</td>\n",
              "      <td>4.65</td>\n",
              "      <td>4.94</td>\n",
              "      <td>4.98</td>\n",
              "      <td>4.83</td>\n",
              "      <td>0.628931</td>\n",
              "      <td>40.33999</td>\n",
              "      <td>0.0</td>\n",
              "      <td>0.0</td>\n",
              "      <td>34.3945</td>\n",
              "      <td>0.0</td>\n",
              "      <td>3.8</td>\n",
              "    </tr>\n",
              "    <tr>\n",
              "      <th>2</th>\n",
              "      <td>1966-03-01</td>\n",
              "      <td>63192</td>\n",
              "      <td>4.66</td>\n",
              "      <td>4.59</td>\n",
              "      <td>4.97</td>\n",
              "      <td>4.92</td>\n",
              "      <td>4.87</td>\n",
              "      <td>0.312500</td>\n",
              "      <td>40.33999</td>\n",
              "      <td>0.0</td>\n",
              "      <td>0.0</td>\n",
              "      <td>34.8652</td>\n",
              "      <td>0.0</td>\n",
              "      <td>3.8</td>\n",
              "    </tr>\n",
              "    <tr>\n",
              "      <th>3</th>\n",
              "      <td>1966-04-01</td>\n",
              "      <td>63437</td>\n",
              "      <td>4.67</td>\n",
              "      <td>4.62</td>\n",
              "      <td>4.90</td>\n",
              "      <td>4.83</td>\n",
              "      <td>4.75</td>\n",
              "      <td>0.623053</td>\n",
              "      <td>39.26763</td>\n",
              "      <td>0.0</td>\n",
              "      <td>0.0</td>\n",
              "      <td>34.9206</td>\n",
              "      <td>0.0</td>\n",
              "      <td>3.8</td>\n",
              "    </tr>\n",
              "    <tr>\n",
              "      <th>4</th>\n",
              "      <td>1966-05-01</td>\n",
              "      <td>63712</td>\n",
              "      <td>4.90</td>\n",
              "      <td>4.64</td>\n",
              "      <td>4.93</td>\n",
              "      <td>4.89</td>\n",
              "      <td>4.78</td>\n",
              "      <td>0.000000</td>\n",
              "      <td>39.26763</td>\n",
              "      <td>0.0</td>\n",
              "      <td>0.0</td>\n",
              "      <td>35.2529</td>\n",
              "      <td>0.0</td>\n",
              "      <td>3.9</td>\n",
              "    </tr>\n",
              "  </tbody>\n",
              "</table>\n",
              "</div>"
            ],
            "text/plain": [
              "        DATE  PAYEMS  FEDFUNDS  3MTB_SECONDARYMKT  ...  SP500   INDPRO  TCU  UNRATE\n",
              "0 1966-01-01   62529      4.42               4.59  ...    0.0  34.1729  0.0     4.0\n",
              "1 1966-02-01   62796      4.60               4.65  ...    0.0  34.3945  0.0     3.8\n",
              "2 1966-03-01   63192      4.66               4.59  ...    0.0  34.8652  0.0     3.8\n",
              "3 1966-04-01   63437      4.67               4.62  ...    0.0  34.9206  0.0     3.8\n",
              "4 1966-05-01   63712      4.90               4.64  ...    0.0  35.2529  0.0     3.9\n",
              "\n",
              "[5 rows x 14 columns]"
            ]
          },
          "metadata": {
            "tags": []
          },
          "execution_count": 36
        }
      ]
    },
    {
      "cell_type": "code",
      "metadata": {
        "colab": {
          "base_uri": "https://localhost:8080/"
        },
        "id": "SkKokKlmocgr",
        "outputId": "2feea358-5ef8-4845-9d89-0480b3147947"
      },
      "source": [
        "final.info()"
      ],
      "execution_count": 37,
      "outputs": [
        {
          "output_type": "stream",
          "text": [
            "<class 'pandas.core.frame.DataFrame'>\n",
            "Int64Index: 650 entries, 0 to 649\n",
            "Data columns (total 14 columns):\n",
            " #   Column             Non-Null Count  Dtype         \n",
            "---  ------             --------------  -----         \n",
            " 0   DATE               650 non-null    datetime64[ns]\n",
            " 1   PAYEMS             650 non-null    int64         \n",
            " 2   FEDFUNDS           650 non-null    float64       \n",
            " 3   3MTB_SECONDARYMKT  650 non-null    float64       \n",
            " 4   GS1                650 non-null    float64       \n",
            " 5   GS5                650 non-null    float64       \n",
            " 6   GS10               650 non-null    float64       \n",
            " 7   CPI                650 non-null    float64       \n",
            " 8   DEBT_PUB           650 non-null    float64       \n",
            " 9   DEBT_HH            650 non-null    float64       \n",
            " 10  SP500              650 non-null    float64       \n",
            " 11  INDPRO             650 non-null    float64       \n",
            " 12  TCU                650 non-null    float64       \n",
            " 13  UNRATE             650 non-null    float64       \n",
            "dtypes: datetime64[ns](1), float64(12), int64(1)\n",
            "memory usage: 76.2 KB\n"
          ],
          "name": "stdout"
        }
      ]
    },
    {
      "cell_type": "markdown",
      "metadata": {
        "id": "P6o6VPJ81fHq"
      },
      "source": [
        "## 4) Creating our Recession Indicator (Target feature)"
      ]
    },
    {
      "cell_type": "markdown",
      "metadata": {
        "id": "u-xl9oaZL84W"
      },
      "source": [
        "We classify a given quarter as the first quarter of a recession period if its first month or the preceding quarter’s second or third month is classified as the NBER business cycle peak, while we classify a given quarter as the last quarter of a recession period if its second or third month or the subsequent quarter’s first month is classified as the NBER business cycle trough. All those quarters that are not included in a recession period are classified as expansion quarters."
      ]
    },
    {
      "cell_type": "code",
      "metadata": {
        "id": "LETSfOFn5e0p"
      },
      "source": [
        "cycle_data = pd.read_csv('/content/gdrive/My Drive/EC4308/Project/Code & Data/Data/Recession Indicator/Recession_Indicator_Correct_All_Periods.csv')\n",
        "cycle_data[['Year', 'Month']] = cycle_data[['Year', 'Month']].astype(str)\n",
        "# Convert to proper datetime\n",
        "cycle_data['DATE'] = cycle_data[['Year', 'Month']].agg('-'.join, axis=1)\n",
        "cycle_data['DATE'] = cycle_data['DATE'].apply(lambda x : datetime.strptime(x, '%Y-%m'))"
      ],
      "execution_count": 38,
      "outputs": []
    },
    {
      "cell_type": "code",
      "metadata": {
        "colab": {
          "base_uri": "https://localhost:8080/",
          "height": 406
        },
        "id": "XfMcjCnoS6ta",
        "outputId": "48f55da3-2b56-4634-b2dd-a9f7928d7b3d"
      },
      "source": [
        "cycle_data"
      ],
      "execution_count": 39,
      "outputs": [
        {
          "output_type": "execute_result",
          "data": {
            "text/html": [
              "<div>\n",
              "<style scoped>\n",
              "    .dataframe tbody tr th:only-of-type {\n",
              "        vertical-align: middle;\n",
              "    }\n",
              "\n",
              "    .dataframe tbody tr th {\n",
              "        vertical-align: top;\n",
              "    }\n",
              "\n",
              "    .dataframe thead th {\n",
              "        text-align: right;\n",
              "    }\n",
              "</style>\n",
              "<table border=\"1\" class=\"dataframe\">\n",
              "  <thead>\n",
              "    <tr style=\"text-align: right;\">\n",
              "      <th></th>\n",
              "      <th>Year</th>\n",
              "      <th>Month</th>\n",
              "      <th>Peak</th>\n",
              "      <th>Trough</th>\n",
              "      <th>Is_Recession</th>\n",
              "      <th>DATE</th>\n",
              "    </tr>\n",
              "  </thead>\n",
              "  <tbody>\n",
              "    <tr>\n",
              "      <th>0</th>\n",
              "      <td>1854</td>\n",
              "      <td>12</td>\n",
              "      <td>0</td>\n",
              "      <td>1</td>\n",
              "      <td>1</td>\n",
              "      <td>1854-12-01</td>\n",
              "    </tr>\n",
              "    <tr>\n",
              "      <th>1</th>\n",
              "      <td>1855</td>\n",
              "      <td>1</td>\n",
              "      <td>0</td>\n",
              "      <td>0</td>\n",
              "      <td>0</td>\n",
              "      <td>1855-01-01</td>\n",
              "    </tr>\n",
              "    <tr>\n",
              "      <th>2</th>\n",
              "      <td>1855</td>\n",
              "      <td>2</td>\n",
              "      <td>0</td>\n",
              "      <td>0</td>\n",
              "      <td>0</td>\n",
              "      <td>1855-02-01</td>\n",
              "    </tr>\n",
              "    <tr>\n",
              "      <th>3</th>\n",
              "      <td>1855</td>\n",
              "      <td>3</td>\n",
              "      <td>0</td>\n",
              "      <td>0</td>\n",
              "      <td>0</td>\n",
              "      <td>1855-03-01</td>\n",
              "    </tr>\n",
              "    <tr>\n",
              "      <th>4</th>\n",
              "      <td>1855</td>\n",
              "      <td>4</td>\n",
              "      <td>0</td>\n",
              "      <td>0</td>\n",
              "      <td>0</td>\n",
              "      <td>1855-04-01</td>\n",
              "    </tr>\n",
              "    <tr>\n",
              "      <th>...</th>\n",
              "      <td>...</td>\n",
              "      <td>...</td>\n",
              "      <td>...</td>\n",
              "      <td>...</td>\n",
              "      <td>...</td>\n",
              "      <td>...</td>\n",
              "    </tr>\n",
              "    <tr>\n",
              "      <th>1978</th>\n",
              "      <td>2019</td>\n",
              "      <td>10</td>\n",
              "      <td>0</td>\n",
              "      <td>0</td>\n",
              "      <td>0</td>\n",
              "      <td>2019-10-01</td>\n",
              "    </tr>\n",
              "    <tr>\n",
              "      <th>1979</th>\n",
              "      <td>2019</td>\n",
              "      <td>11</td>\n",
              "      <td>0</td>\n",
              "      <td>0</td>\n",
              "      <td>0</td>\n",
              "      <td>2019-11-01</td>\n",
              "    </tr>\n",
              "    <tr>\n",
              "      <th>1980</th>\n",
              "      <td>2019</td>\n",
              "      <td>12</td>\n",
              "      <td>0</td>\n",
              "      <td>0</td>\n",
              "      <td>0</td>\n",
              "      <td>2019-12-01</td>\n",
              "    </tr>\n",
              "    <tr>\n",
              "      <th>1981</th>\n",
              "      <td>2020</td>\n",
              "      <td>1</td>\n",
              "      <td>0</td>\n",
              "      <td>0</td>\n",
              "      <td>0</td>\n",
              "      <td>2020-01-01</td>\n",
              "    </tr>\n",
              "    <tr>\n",
              "      <th>1982</th>\n",
              "      <td>2020</td>\n",
              "      <td>2</td>\n",
              "      <td>1</td>\n",
              "      <td>0</td>\n",
              "      <td>1</td>\n",
              "      <td>2020-02-01</td>\n",
              "    </tr>\n",
              "  </tbody>\n",
              "</table>\n",
              "<p>1983 rows × 6 columns</p>\n",
              "</div>"
            ],
            "text/plain": [
              "      Year Month  Peak  Trough  Is_Recession       DATE\n",
              "0     1854    12     0       1             1 1854-12-01\n",
              "1     1855     1     0       0             0 1855-01-01\n",
              "2     1855     2     0       0             0 1855-02-01\n",
              "3     1855     3     0       0             0 1855-03-01\n",
              "4     1855     4     0       0             0 1855-04-01\n",
              "...    ...   ...   ...     ...           ...        ...\n",
              "1978  2019    10     0       0             0 2019-10-01\n",
              "1979  2019    11     0       0             0 2019-11-01\n",
              "1980  2019    12     0       0             0 2019-12-01\n",
              "1981  2020     1     0       0             0 2020-01-01\n",
              "1982  2020     2     1       0             1 2020-02-01\n",
              "\n",
              "[1983 rows x 6 columns]"
            ]
          },
          "metadata": {
            "tags": []
          },
          "execution_count": 39
        }
      ]
    },
    {
      "cell_type": "code",
      "metadata": {
        "colab": {
          "base_uri": "https://localhost:8080/",
          "height": 406
        },
        "id": "lHcQt9qgqr_R",
        "outputId": "958cb367-3267-45b2-f7b7-2468ea010905"
      },
      "source": [
        "# Get recession indicator\n",
        "recession_indicator = cycle_data[['DATE', 'Is_Recession']][(cycle_data.DATE >= start_date) & (cycle_data.DATE <= end_date)]\n",
        "recession_indicator"
      ],
      "execution_count": 40,
      "outputs": [
        {
          "output_type": "execute_result",
          "data": {
            "text/html": [
              "<div>\n",
              "<style scoped>\n",
              "    .dataframe tbody tr th:only-of-type {\n",
              "        vertical-align: middle;\n",
              "    }\n",
              "\n",
              "    .dataframe tbody tr th {\n",
              "        vertical-align: top;\n",
              "    }\n",
              "\n",
              "    .dataframe thead th {\n",
              "        text-align: right;\n",
              "    }\n",
              "</style>\n",
              "<table border=\"1\" class=\"dataframe\">\n",
              "  <thead>\n",
              "    <tr style=\"text-align: right;\">\n",
              "      <th></th>\n",
              "      <th>DATE</th>\n",
              "      <th>Is_Recession</th>\n",
              "    </tr>\n",
              "  </thead>\n",
              "  <tbody>\n",
              "    <tr>\n",
              "      <th>1333</th>\n",
              "      <td>1966-01-01</td>\n",
              "      <td>0</td>\n",
              "    </tr>\n",
              "    <tr>\n",
              "      <th>1334</th>\n",
              "      <td>1966-02-01</td>\n",
              "      <td>0</td>\n",
              "    </tr>\n",
              "    <tr>\n",
              "      <th>1335</th>\n",
              "      <td>1966-03-01</td>\n",
              "      <td>0</td>\n",
              "    </tr>\n",
              "    <tr>\n",
              "      <th>1336</th>\n",
              "      <td>1966-04-01</td>\n",
              "      <td>0</td>\n",
              "    </tr>\n",
              "    <tr>\n",
              "      <th>1337</th>\n",
              "      <td>1966-05-01</td>\n",
              "      <td>0</td>\n",
              "    </tr>\n",
              "    <tr>\n",
              "      <th>...</th>\n",
              "      <td>...</td>\n",
              "      <td>...</td>\n",
              "    </tr>\n",
              "    <tr>\n",
              "      <th>1978</th>\n",
              "      <td>2019-10-01</td>\n",
              "      <td>0</td>\n",
              "    </tr>\n",
              "    <tr>\n",
              "      <th>1979</th>\n",
              "      <td>2019-11-01</td>\n",
              "      <td>0</td>\n",
              "    </tr>\n",
              "    <tr>\n",
              "      <th>1980</th>\n",
              "      <td>2019-12-01</td>\n",
              "      <td>0</td>\n",
              "    </tr>\n",
              "    <tr>\n",
              "      <th>1981</th>\n",
              "      <td>2020-01-01</td>\n",
              "      <td>0</td>\n",
              "    </tr>\n",
              "    <tr>\n",
              "      <th>1982</th>\n",
              "      <td>2020-02-01</td>\n",
              "      <td>1</td>\n",
              "    </tr>\n",
              "  </tbody>\n",
              "</table>\n",
              "<p>650 rows × 2 columns</p>\n",
              "</div>"
            ],
            "text/plain": [
              "           DATE  Is_Recession\n",
              "1333 1966-01-01             0\n",
              "1334 1966-02-01             0\n",
              "1335 1966-03-01             0\n",
              "1336 1966-04-01             0\n",
              "1337 1966-05-01             0\n",
              "...         ...           ...\n",
              "1978 2019-10-01             0\n",
              "1979 2019-11-01             0\n",
              "1980 2019-12-01             0\n",
              "1981 2020-01-01             0\n",
              "1982 2020-02-01             1\n",
              "\n",
              "[650 rows x 2 columns]"
            ]
          },
          "metadata": {
            "tags": []
          },
          "execution_count": 40
        }
      ]
    },
    {
      "cell_type": "markdown",
      "metadata": {
        "id": "edtw00rjq_IJ"
      },
      "source": [
        "### Combining our Variables with our Target Feature"
      ]
    },
    {
      "cell_type": "code",
      "metadata": {
        "colab": {
          "base_uri": "https://localhost:8080/",
          "height": 593
        },
        "id": "8h3EIWMkq-rM",
        "outputId": "ea82e446-ea48-481b-aaba-266d1b0281f4"
      },
      "source": [
        "final_dataset = pd.merge(final, recession_indicator, how='left', on='DATE')\n",
        "final_dataset"
      ],
      "execution_count": 41,
      "outputs": [
        {
          "output_type": "execute_result",
          "data": {
            "text/html": [
              "<div>\n",
              "<style scoped>\n",
              "    .dataframe tbody tr th:only-of-type {\n",
              "        vertical-align: middle;\n",
              "    }\n",
              "\n",
              "    .dataframe tbody tr th {\n",
              "        vertical-align: top;\n",
              "    }\n",
              "\n",
              "    .dataframe thead th {\n",
              "        text-align: right;\n",
              "    }\n",
              "</style>\n",
              "<table border=\"1\" class=\"dataframe\">\n",
              "  <thead>\n",
              "    <tr style=\"text-align: right;\">\n",
              "      <th></th>\n",
              "      <th>DATE</th>\n",
              "      <th>PAYEMS</th>\n",
              "      <th>FEDFUNDS</th>\n",
              "      <th>3MTB_SECONDARYMKT</th>\n",
              "      <th>GS1</th>\n",
              "      <th>GS5</th>\n",
              "      <th>GS10</th>\n",
              "      <th>CPI</th>\n",
              "      <th>DEBT_PUB</th>\n",
              "      <th>DEBT_HH</th>\n",
              "      <th>SP500</th>\n",
              "      <th>INDPRO</th>\n",
              "      <th>TCU</th>\n",
              "      <th>UNRATE</th>\n",
              "      <th>Is_Recession</th>\n",
              "    </tr>\n",
              "  </thead>\n",
              "  <tbody>\n",
              "    <tr>\n",
              "      <th>0</th>\n",
              "      <td>1966-01-01</td>\n",
              "      <td>62529</td>\n",
              "      <td>4.42</td>\n",
              "      <td>4.59</td>\n",
              "      <td>4.88</td>\n",
              "      <td>4.86</td>\n",
              "      <td>4.61</td>\n",
              "      <td>0.000000</td>\n",
              "      <td>40.33999</td>\n",
              "      <td>0.000</td>\n",
              "      <td>0.000000</td>\n",
              "      <td>34.1729</td>\n",
              "      <td>0.0000</td>\n",
              "      <td>4.0</td>\n",
              "      <td>0</td>\n",
              "    </tr>\n",
              "    <tr>\n",
              "      <th>1</th>\n",
              "      <td>1966-02-01</td>\n",
              "      <td>62796</td>\n",
              "      <td>4.60</td>\n",
              "      <td>4.65</td>\n",
              "      <td>4.94</td>\n",
              "      <td>4.98</td>\n",
              "      <td>4.83</td>\n",
              "      <td>0.628931</td>\n",
              "      <td>40.33999</td>\n",
              "      <td>0.000</td>\n",
              "      <td>0.000000</td>\n",
              "      <td>34.3945</td>\n",
              "      <td>0.0000</td>\n",
              "      <td>3.8</td>\n",
              "      <td>0</td>\n",
              "    </tr>\n",
              "    <tr>\n",
              "      <th>2</th>\n",
              "      <td>1966-03-01</td>\n",
              "      <td>63192</td>\n",
              "      <td>4.66</td>\n",
              "      <td>4.59</td>\n",
              "      <td>4.97</td>\n",
              "      <td>4.92</td>\n",
              "      <td>4.87</td>\n",
              "      <td>0.312500</td>\n",
              "      <td>40.33999</td>\n",
              "      <td>0.000</td>\n",
              "      <td>0.000000</td>\n",
              "      <td>34.8652</td>\n",
              "      <td>0.0000</td>\n",
              "      <td>3.8</td>\n",
              "      <td>0</td>\n",
              "    </tr>\n",
              "    <tr>\n",
              "      <th>3</th>\n",
              "      <td>1966-04-01</td>\n",
              "      <td>63437</td>\n",
              "      <td>4.67</td>\n",
              "      <td>4.62</td>\n",
              "      <td>4.90</td>\n",
              "      <td>4.83</td>\n",
              "      <td>4.75</td>\n",
              "      <td>0.623053</td>\n",
              "      <td>39.26763</td>\n",
              "      <td>0.000</td>\n",
              "      <td>0.000000</td>\n",
              "      <td>34.9206</td>\n",
              "      <td>0.0000</td>\n",
              "      <td>3.8</td>\n",
              "      <td>0</td>\n",
              "    </tr>\n",
              "    <tr>\n",
              "      <th>4</th>\n",
              "      <td>1966-05-01</td>\n",
              "      <td>63712</td>\n",
              "      <td>4.90</td>\n",
              "      <td>4.64</td>\n",
              "      <td>4.93</td>\n",
              "      <td>4.89</td>\n",
              "      <td>4.78</td>\n",
              "      <td>0.000000</td>\n",
              "      <td>39.26763</td>\n",
              "      <td>0.000</td>\n",
              "      <td>0.000000</td>\n",
              "      <td>35.2529</td>\n",
              "      <td>0.0000</td>\n",
              "      <td>3.9</td>\n",
              "      <td>0</td>\n",
              "    </tr>\n",
              "    <tr>\n",
              "      <th>...</th>\n",
              "      <td>...</td>\n",
              "      <td>...</td>\n",
              "      <td>...</td>\n",
              "      <td>...</td>\n",
              "      <td>...</td>\n",
              "      <td>...</td>\n",
              "      <td>...</td>\n",
              "      <td>...</td>\n",
              "      <td>...</td>\n",
              "      <td>...</td>\n",
              "      <td>...</td>\n",
              "      <td>...</td>\n",
              "      <td>...</td>\n",
              "      <td>...</td>\n",
              "      <td>...</td>\n",
              "    </tr>\n",
              "    <tr>\n",
              "      <th>645</th>\n",
              "      <td>2019-10-01</td>\n",
              "      <td>151524</td>\n",
              "      <td>1.83</td>\n",
              "      <td>1.65</td>\n",
              "      <td>1.61</td>\n",
              "      <td>1.53</td>\n",
              "      <td>1.71</td>\n",
              "      <td>0.228619</td>\n",
              "      <td>106.68579</td>\n",
              "      <td>75.462</td>\n",
              "      <td>3037.560059</td>\n",
              "      <td>109.0270</td>\n",
              "      <td>76.9891</td>\n",
              "      <td>3.6</td>\n",
              "      <td>0</td>\n",
              "    </tr>\n",
              "    <tr>\n",
              "      <th>646</th>\n",
              "      <td>2019-11-01</td>\n",
              "      <td>151758</td>\n",
              "      <td>1.55</td>\n",
              "      <td>1.54</td>\n",
              "      <td>1.57</td>\n",
              "      <td>1.64</td>\n",
              "      <td>1.81</td>\n",
              "      <td>-0.053624</td>\n",
              "      <td>106.68579</td>\n",
              "      <td>75.462</td>\n",
              "      <td>3140.979980</td>\n",
              "      <td>110.0388</td>\n",
              "      <td>77.5723</td>\n",
              "      <td>3.6</td>\n",
              "      <td>0</td>\n",
              "    </tr>\n",
              "    <tr>\n",
              "      <th>647</th>\n",
              "      <td>2019-12-01</td>\n",
              "      <td>151919</td>\n",
              "      <td>1.55</td>\n",
              "      <td>1.54</td>\n",
              "      <td>1.55</td>\n",
              "      <td>1.68</td>\n",
              "      <td>1.86</td>\n",
              "      <td>-0.090977</td>\n",
              "      <td>106.68579</td>\n",
              "      <td>75.462</td>\n",
              "      <td>3230.780029</td>\n",
              "      <td>109.6527</td>\n",
              "      <td>77.1697</td>\n",
              "      <td>3.6</td>\n",
              "      <td>0</td>\n",
              "    </tr>\n",
              "    <tr>\n",
              "      <th>648</th>\n",
              "      <td>2020-01-01</td>\n",
              "      <td>152234</td>\n",
              "      <td>1.55</td>\n",
              "      <td>1.52</td>\n",
              "      <td>1.53</td>\n",
              "      <td>1.56</td>\n",
              "      <td>1.76</td>\n",
              "      <td>0.387977</td>\n",
              "      <td>107.71144</td>\n",
              "      <td>76.450</td>\n",
              "      <td>3225.520020</td>\n",
              "      <td>109.1845</td>\n",
              "      <td>76.8754</td>\n",
              "      <td>3.5</td>\n",
              "      <td>0</td>\n",
              "    </tr>\n",
              "    <tr>\n",
              "      <th>649</th>\n",
              "      <td>2020-02-01</td>\n",
              "      <td>152523</td>\n",
              "      <td>1.58</td>\n",
              "      <td>1.52</td>\n",
              "      <td>1.41</td>\n",
              "      <td>1.32</td>\n",
              "      <td>1.50</td>\n",
              "      <td>0.274062</td>\n",
              "      <td>107.71144</td>\n",
              "      <td>76.450</td>\n",
              "      <td>2954.219971</td>\n",
              "      <td>109.2966</td>\n",
              "      <td>76.9258</td>\n",
              "      <td>3.5</td>\n",
              "      <td>1</td>\n",
              "    </tr>\n",
              "  </tbody>\n",
              "</table>\n",
              "<p>650 rows × 15 columns</p>\n",
              "</div>"
            ],
            "text/plain": [
              "          DATE  PAYEMS  FEDFUNDS  ...      TCU  UNRATE  Is_Recession\n",
              "0   1966-01-01   62529      4.42  ...   0.0000     4.0             0\n",
              "1   1966-02-01   62796      4.60  ...   0.0000     3.8             0\n",
              "2   1966-03-01   63192      4.66  ...   0.0000     3.8             0\n",
              "3   1966-04-01   63437      4.67  ...   0.0000     3.8             0\n",
              "4   1966-05-01   63712      4.90  ...   0.0000     3.9             0\n",
              "..         ...     ...       ...  ...      ...     ...           ...\n",
              "645 2019-10-01  151524      1.83  ...  76.9891     3.6             0\n",
              "646 2019-11-01  151758      1.55  ...  77.5723     3.6             0\n",
              "647 2019-12-01  151919      1.55  ...  77.1697     3.6             0\n",
              "648 2020-01-01  152234      1.55  ...  76.8754     3.5             0\n",
              "649 2020-02-01  152523      1.58  ...  76.9258     3.5             1\n",
              "\n",
              "[650 rows x 15 columns]"
            ]
          },
          "metadata": {
            "tags": []
          },
          "execution_count": 41
        }
      ]
    },
    {
      "cell_type": "markdown",
      "metadata": {
        "id": "I3f2FbB8Ltyh"
      },
      "source": [
        "## 5) Write our final dataset"
      ]
    },
    {
      "cell_type": "code",
      "metadata": {
        "id": "NPPUWayOLyPE"
      },
      "source": [
        "# Write to CSV and store in gdrive\n",
        "final_dest = '/content/gdrive/My Drive/EC4308/Project/Code & Data/Data/'\n",
        "final_file_name = 'final_data.csv'\n",
        "final_dataset.to_csv(os.path.join(final_dest, final_file_name), index = False)"
      ],
      "execution_count": 42,
      "outputs": []
    },
    {
      "cell_type": "markdown",
      "metadata": {
        "id": "G67qVsl8J0vs"
      },
      "source": [
        "## Links of Interest\n",
        "\n",
        "*   Rolling & Expanding window statistics ([Source](https://machinelearningmastery.com/basic-feature-engineering-time-series-data-python/))\n",
        "*   [An ML approach to forecasting Italian recessions](https://www.mdpi.com/2227-7390/8/2/241/htm)\n",
        "\n",
        "## Further Preprocessing\n",
        "\n",
        "\n",
        "\n",
        "*   Autoregressive Models -> stationarity etc.\n",
        "*   ML Models -> No need stationarity since they are oblivious to time features.\n",
        "\n",
        "## Train Test Split (Cross Validation Approachs)\n",
        "\n",
        "\n",
        "*   [Recursive cross val](https://scikit-learn.org/stable/modules/generated/sklearn.model_selection.TimeSeriesSplit.html) (Expensive to compute) \n",
        "*   [Blocked cross val](https://hub.packtpub.com/cross-validation-strategies-for-time-series-forecasting-tutorial/)\n",
        "*   AIC/ BIC (Supposedly performs just as well)\n",
        "\n"
      ]
    }
  ]
}