{
 "cells": [
  {
   "cell_type": "code",
   "execution_count": 2,
   "metadata": {},
   "outputs": [],
   "source": [
    "import pandas as pd\n",
    "import numpy as np\n",
    "import matplotlib as mpl\n",
    "import matplotlib.pyplot as plt"
   ]
  },
  {
   "cell_type": "code",
   "execution_count": 13,
   "metadata": {},
   "outputs": [],
   "source": [
    "df_train = pd.read_csv('rec_data_final_train.csv')\n",
    "df_test = pd.read_csv('rec_data_final_test.csv')\n",
    "lag2_df_train = pd.read_csv('rec_data_lag_2_train.csv')\n",
    "lag2_df_test = pd.read_csv('rec_data_lag_2_test.csv')\n",
    "lag4_df_train = pd.read_csv('rec_data_lag_4_train.csv')\n",
    "lag4_df_test = pd.read_csv('rec_data_lag_4_test.csv')\n",
    "lag10_df_train = pd.read_csv('rec_data_lag_10_train.csv')\n",
    "lag10_df_test = pd.read_csv('rec_data_lag_10_test.csv')\n",
    "lag12_df_train = pd.read_csv('rec_data_lag_12_train.csv')\n",
    "lag12_df_test = pd.read_csv('rec_data_lag_12_test.csv')"
   ]
  },
  {
   "cell_type": "code",
   "execution_count": 43,
   "metadata": {},
   "outputs": [],
   "source": [
    "df_train = df_train.dropna()\n",
    "df_test = df_test.dropna()\n",
    "lag2_df_train = lag2_df_train.dropna()\n",
    "lag2_df_test = lag2_df_test.dropna()\n",
    "lag4_df_train = lag4_df_train.dropna()\n",
    "lag4_df_test = lag4_df_test.dropna()\n",
    "lag10_df_train = lag10_df_train.dropna()\n",
    "lag10_df_test = lag10_df_test.dropna()\n",
    "lag12_df_train = lag12_df_train.dropna()\n",
    "lag12_df_test = lag12_df_test.dropna()"
   ]
  },
  {
   "cell_type": "code",
   "execution_count": 44,
   "metadata": {},
   "outputs": [
    {
     "data": {
      "text/plain": [
       "Index(['DATE', 'PAYEMS', 'FEDFUNDS', '3MTB_SECONDARYMKT', 'GS1', 'GS5', 'GS10',\n",
       "       'CPI', 'DEBT_PUB', 'SP500', 'INDPRO', 'TCU', 'UNRATE', 'Is_Recession',\n",
       "       '10Y3MTH_SPREAD', 'FEDFUNDS_ROLMEAN3', 'INDPRO_ROLMEAN3',\n",
       "       'UNRATE_ROLMEAN3', 'PAYEMS_3MTHCHANGE', '10Y3MTH_SPREAD_3MTHCHANGE',\n",
       "       'INDPRO_3MTHCHANGE'],\n",
       "      dtype='object')"
      ]
     },
     "execution_count": 44,
     "metadata": {},
     "output_type": "execute_result"
    }
   ],
   "source": [
    "df_train.columns"
   ]
  },
  {
   "cell_type": "code",
   "execution_count": 45,
   "metadata": {},
   "outputs": [],
   "source": [
    "#Target Variable\n",
    "y_train = df_train['Is_Recession']\n",
    "y_test = df_test['Is_Recession']\n",
    "y_lag2_train = lag2_df_train['Is_Recession']\n",
    "y_lag2_test = lag2_df_test['Is_Recession']\n",
    "y_lag4_train = lag4_df_train['Is_Recession']\n",
    "y_lag4_test = lag4_df_test['Is_Recession']\n",
    "y_lag10_train = lag10_df_train['Is_Recession']\n",
    "y_lag10_test = lag10_df_test['Is_Recession']\n",
    "y_lag12_train = lag12_df_train['Is_Recession']\n",
    "y_lag12_test = lag12_df_test['Is_Recession']"
   ]
  },
  {
   "cell_type": "code",
   "execution_count": 46,
   "metadata": {},
   "outputs": [],
   "source": [
    "#Predictor Variables\n",
    "X_train = df_train.drop(['Is_Recession', 'DATE'], axis = 1)\n",
    "X_test = df_test.drop(['Is_Recession', 'DATE'], axis = 1)\n",
    "X_lag2_train = lag2_df_train.drop(['Is_Recession', 'DATE'], axis = 1)\n",
    "X_lag2_test = lag2_df_test.drop(['Is_Recession', 'DATE'], axis = 1)\n",
    "X_lag4_train = lag4_df_train.drop(['Is_Recession', 'DATE'], axis = 1)\n",
    "X_lag4_test = lag4_df_test.drop(['Is_Recession', 'DATE'], axis = 1)\n",
    "X_lag10_train = lag10_df_train.drop(['Is_Recession', 'DATE'], axis = 1)\n",
    "X_lag10_test = lag10_df_test.drop(['Is_Recession', 'DATE'], axis = 1)\n",
    "X_lag12_train = lag12_df_train.drop(['Is_Recession', 'DATE'], axis = 1)\n",
    "X_lag12_test = lag12_df_test.drop(['Is_Recession', 'DATE'], axis = 1)"
   ]
  },
  {
   "cell_type": "code",
   "execution_count": 47,
   "metadata": {},
   "outputs": [
    {
     "name": "stdout",
     "output_type": "stream",
     "text": [
      "<class 'pandas.core.frame.DataFrame'>\n",
      "Int64Index: 405 entries, 3 to 407\n",
      "Data columns (total 19 columns):\n",
      " #   Column                     Non-Null Count  Dtype  \n",
      "---  ------                     --------------  -----  \n",
      " 0   PAYEMS                     405 non-null    int64  \n",
      " 1   FEDFUNDS                   405 non-null    float64\n",
      " 2   3MTB_SECONDARYMKT          405 non-null    float64\n",
      " 3   GS1                        405 non-null    float64\n",
      " 4   GS5                        405 non-null    float64\n",
      " 5   GS10                       405 non-null    float64\n",
      " 6   CPI                        405 non-null    float64\n",
      " 7   DEBT_PUB                   405 non-null    float64\n",
      " 8   SP500                      405 non-null    float64\n",
      " 9   INDPRO                     405 non-null    float64\n",
      " 10  TCU                        405 non-null    float64\n",
      " 11  UNRATE                     405 non-null    float64\n",
      " 12  10Y3MTH_SPREAD             405 non-null    float64\n",
      " 13  FEDFUNDS_ROLMEAN3          405 non-null    float64\n",
      " 14  INDPRO_ROLMEAN3            405 non-null    float64\n",
      " 15  UNRATE_ROLMEAN3            405 non-null    float64\n",
      " 16  PAYEMS_3MTHCHANGE          405 non-null    float64\n",
      " 17  10Y3MTH_SPREAD_3MTHCHANGE  405 non-null    float64\n",
      " 18  INDPRO_3MTHCHANGE          405 non-null    float64\n",
      "dtypes: float64(18), int64(1)\n",
      "memory usage: 63.3 KB\n"
     ]
    }
   ],
   "source": [
    "X_train = X_train.dropna()\n",
    "X_train.info()"
   ]
  },
  {
   "cell_type": "markdown",
   "metadata": {},
   "source": [
    "## Random Forest Model Builder"
   ]
  },
  {
   "cell_type": "markdown",
   "metadata": {},
   "source": [
    "## No Lag Model"
   ]
  },
  {
   "cell_type": "code",
   "execution_count": 104,
   "metadata": {},
   "outputs": [
    {
     "data": {
      "text/plain": [
       "RandomForestClassifier(max_depth=10, n_estimators=800, random_state=1)"
      ]
     },
     "execution_count": 104,
     "metadata": {},
     "output_type": "execute_result"
    }
   ],
   "source": [
    "from sklearn.ensemble import RandomForestClassifier\n",
    "\n",
    "rf = RandomForestClassifier(n_estimators = 800, criterion = 'gini', random_state = 1, bootstrap = True, max_depth = 10)\n",
    "rf.fit(X_train, y_train)"
   ]
  },
  {
   "cell_type": "code",
   "execution_count": 105,
   "metadata": {},
   "outputs": [],
   "source": [
    "from sklearn.metrics import confusion_matrix \n",
    "from sklearn.metrics import roc_curve\n",
    "from sklearn.metrics import roc_auc_score"
   ]
  },
  {
   "cell_type": "code",
   "execution_count": null,
   "metadata": {},
   "outputs": [],
   "source": [
    "weights = np.linespace(0.0, 0.99, 200)\n",
    "\n",
    "weights_grid = {'class_weight' :}"
   ]
  },
  {
   "cell_type": "code",
   "execution_count": 132,
   "metadata": {},
   "outputs": [
    {
     "data": {
      "text/plain": [
       "(array([[213,   0],\n",
       "        [ 29,   0]]),\n",
       " 0.8801652892561983)"
      ]
     },
     "execution_count": 132,
     "metadata": {},
     "output_type": "execute_result"
    }
   ],
   "source": [
    "y_pred = rf.predict(X_test)\n",
    "y_pred_proba = (rf.predict_proba(X_test)[:,1] >= 0.5).astype(bool)\n",
    "\n",
    "cm = confusion_matrix(y_test, y_pred_proba)\n",
    "accuracy_rate = (cm[0,0] + cm[1,1]) / (cm[0,0] + cm[0,1] + cm[1,0] + cm[1,1])\n",
    "cm, accuracy_rate"
   ]
  },
  {
   "cell_type": "markdown",
   "metadata": {},
   "source": [
    "Results inidcate that the Random Forest Classifier is classifying all periods as non-recession."
   ]
  },
  {
   "cell_type": "code",
   "execution_count": 68,
   "metadata": {},
   "outputs": [
    {
     "data": {
      "text/plain": [
       "array([0.0269004 , 0.05032341, 0.04409893, 0.03468027, 0.02860175,\n",
       "       0.03287391, 0.03409163, 0.07493465, 0.005573  , 0.03742193,\n",
       "       0.02252567, 0.01732179, 0.031038  , 0.07705398, 0.03542318,\n",
       "       0.01779356, 0.22937873, 0.02082703, 0.17913818])"
      ]
     },
     "execution_count": 68,
     "metadata": {},
     "output_type": "execute_result"
    }
   ],
   "source": [
    "## Checking for Feature Importances\n",
    "rf.feature_importances_"
   ]
  },
  {
   "cell_type": "code",
   "execution_count": 71,
   "metadata": {},
   "outputs": [
    {
     "data": {
      "text/plain": [
       "(<AxesSubplot:>,\n",
       " SP500                        0.005573\n",
       " UNRATE                       0.017322\n",
       " UNRATE_ROLMEAN3              0.017794\n",
       " 10Y3MTH_SPREAD_3MTHCHANGE    0.020827\n",
       " TCU                          0.022526\n",
       " PAYEMS                       0.026900\n",
       " GS5                          0.028602\n",
       " 10Y3MTH_SPREAD               0.031038\n",
       " GS10                         0.032874\n",
       " CPI                          0.034092\n",
       " GS1                          0.034680\n",
       " INDPRO_ROLMEAN3              0.035423\n",
       " INDPRO                       0.037422\n",
       " 3MTB_SECONDARYMKT            0.044099\n",
       " FEDFUNDS                     0.050323\n",
       " DEBT_PUB                     0.074935\n",
       " FEDFUNDS_ROLMEAN3            0.077054\n",
       " INDPRO_3MTHCHANGE            0.179138\n",
       " PAYEMS_3MTHCHANGE            0.229379\n",
       " dtype: float64)"
      ]
     },
     "execution_count": 71,
     "metadata": {},
     "output_type": "execute_result"
    },
    {
     "data": {
      "image/png": "[encoded data removed]",
      "text/plain": [
       "<Figure size 432x288 with 1 Axes>"
      ]
     },
     "metadata": {
      "needs_background": "light"
     },
     "output_type": "display_data"
    }
   ],
   "source": [
    "feat_importances = pd.Series(rf.feature_importances_, index=X_train.columns)\n",
    "feat_importances.nlargest(20).plot(kind='barh'), feat_importances.nsmallest(20)"
   ]
  },
  {
   "cell_type": "code",
   "execution_count": 102,
   "metadata": {},
   "outputs": [
    {
     "name": "stdout",
     "output_type": "stream",
     "text": [
      "['SP500', 'UNRATE', 'TCU', 'UNRATE_ROLMEAN3', '10Y3MTH_SPREAD_3MTHCHANGE', 'PAYEMS', 'GS5', '10Y3MTH_SPREAD', 'GS1', 'GS10', 'INDPRO_ROLMEAN3', 'CPI', '3MTB_SECONDARYMKT', 'INDPRO', 'FEDFUNDS', 'DEBT_PUB', 'FEDFUNDS_ROLMEAN3', 'INDPRO_3MTHCHANGE', 'PAYEMS_3MTHCHANGE']\n",
      "[0.8801652892561983, 0.8801652892561983, 0.8801652892561983, 0.8801652892561983, 0.8801652892561983, 0.8801652892561983, 0.8801652892561983, 0.8801652892561983, 0.8801652892561983, 0.8801652892561983, 0.8801652892561983, 0.8801652892561983, 0.8801652892561983, 0.8801652892561983, 0.8801652892561983, 0.8801652892561983, 0.8801652892561983, 0.9256198347107438, 0.7892561983471075]\n"
     ]
    }
   ],
   "source": [
    "## Feature Selection\n",
    "cols = list(X_train.columns)\n",
    "removed_feat = []\n",
    "acc_rate = []\n",
    "\n",
    "while (len(cols) > 0):\n",
    "    ## Backward Feature Elimination\n",
    "    ## DataFrame Modification\n",
    "    feat_score = []\n",
    "    X_train_temp = X_train[cols]\n",
    "    X_test_temp = X_test[cols]\n",
    "    \n",
    "    ## Model Building and Performance Metric\n",
    "    rf_temp = rf.fit(X_train_temp, y_train)\n",
    "    y_pred_temp = rf_temp.predict(X_test_temp)\n",
    "    cm_temp = confusion_matrix(y_test, y_pred_temp)\n",
    "    acc_rate.append((cm_temp[0,0] + cm_temp[1,1]) / (cm_temp[0,0] + cm_temp[0,1] + cm_temp[1,0] + cm_temp[1,1]))\n",
    "    \n",
    "    \n",
    "    feat_score = pd.Series(rf.feature_importances_, index = cols)\n",
    "    min_score = min(feat_score)\n",
    "    feat_with_min_score = feat_score.idxmin()\n",
    "    removed_feat.append(feat_with_min_score)\n",
    "    cols.remove(feat_with_min_score)\n",
    "    \n",
    "\n",
    "print(removed_feat)\n",
    "print(acc_rate)"
   ]
  },
  {
   "cell_type": "markdown",
   "metadata": {},
   "source": [
    "## With "
   ]
  },
  {
   "cell_type": "code",
   "execution_count": null,
   "metadata": {},
   "outputs": [],
   "source": [
    "## Feature Selection\n",
    "cols = list(X_train.columns)\n",
    "removed_feat = []\n",
    "acc_rate = []\n",
    "\n",
    "while (len(cols) > 0):\n",
    "    ## Backward Feature Elimination\n",
    "    ## DataFrame Modification\n",
    "    feat_score = []\n",
    "    X_train_temp = X_train[cols]\n",
    "    X_test_temp = X_test[cols]\n",
    "    \n",
    "    ## Model Building and Performance Metric\n",
    "    rf_temp = rf.fit(X_train_temp, y_train)\n",
    "    y_pred_temp = rf_temp.predict(X_test_temp)\n",
    "    cm_temp = confusion_matrix(y_test, y_pred_temp)\n",
    "    acc_rate.append((cm_temp[0,0] + cm_temp[1,1]) / (cm_temp[0,0] + cm_temp[0,1] + cm_temp[1,0] + cm_temp[1,1]))\n",
    "    \n",
    "    \n",
    "    feat_score = pd.Series(rf.feature_importances_, index = cols)\n",
    "    min_score = min(feat_score)\n",
    "    feat_with_min_score = feat_score.idxmin()\n",
    "    removed_feat.append(feat_with_min_score)\n",
    "    cols.remove(feat_with_min_score)\n",
    "    \n",
    "     \n",
    "\n",
    "print(removed_feat)\n",
    "print(acc_rate)"
   ]
  },
  {
   "cell_type": "code",
   "execution_count": 141,
   "metadata": {},
   "outputs": [
    {
     "data": {
      "text/plain": [
       "[<matplotlib.lines.Line2D at 0x124305fd0>]"
      ]
     },
     "execution_count": 141,
     "metadata": {},
     "output_type": "execute_result"
    },
    {
     "data": {
      "image/png": "[encoded data removed]",
      "text/plain": [
       "<Figure size 1008x720 with 1 Axes>"
      ]
     },
     "metadata": {
      "needs_background": "light"
     },
     "output_type": "display_data"
    }
   ],
   "source": [
    "## Plot\n",
    "fig = plt.figure(figsize = (14,10))\n",
    "ax = fig.add_axes([0,0,1,1])\n",
    "plt.plot(removed_feat, acc_rate)"
   ]
  },
  {
   "cell_type": "code",
   "execution_count": null,
   "metadata": {},
   "outputs": [],
   "source": [
    "from sklearn.model_selection import GridSearchCV\n",
    "\n",
    "\n",
    "grid_param = {\n",
    "    'n_estimators' : [100, 250, 500, 750, 1000, 1250],\n",
    "    'criterion' : ['gini', 'entropy'],\n",
    "    'bootstrap' : [True, False],\n",
    "    'max_depth' : [10, 25, 50, 75, 100]\n",
    "}\n",
    "\n",
    "grid_seach = GridSearchCV(estimator )"
   ]
  },
  {
   "cell_type": "code",
   "execution_count": null,
   "metadata": {},
   "outputs": [],
   "source": []
  },
  {
   "cell_type": "code",
   "execution_count": null,
   "metadata": {},
   "outputs": [],
   "source": []
  }
 ],
 "metadata": {
  "kernelspec": {
   "display_name": "Python 3",
   "language": "python",
   "name": "python3"
  },
  "language_info": {
   "codemirror_mode": {
    "name": "ipython",
    "version": 3
   },
   "file_extension": ".py",
   "mimetype": "text/x-python",
   "name": "python",
   "nbconvert_exporter": "python",
   "pygments_lexer": "ipython3",
   "version": "3.8.5"
  }
 },
 "nbformat": 4,
 "nbformat_minor": 4
}
