{
 "cells": [
  {
   "cell_type": "code",
   "execution_count": 99,
   "metadata": {},
   "outputs": [],
   "source": [
    "### Random Forest Forecasting Model ###"
   ]
  },
  {
   "cell_type": "code",
   "execution_count": 100,
   "metadata": {},
   "outputs": [],
   "source": [
    "## Import Relevant Libraries\n",
    "import pandas as pd\n",
    "import numpy as np\n",
    "from Forecasters import TSDatasetGenerator, RFForecaster\n",
    "from Forecasters.XGBForecaster import XGBForecaster\n",
    "from sklearn.metrics import confusion_matrix, plot_confusion_matrix, classification_report"
   ]
  },
  {
   "cell_type": "code",
   "execution_count": 101,
   "metadata": {},
   "outputs": [],
   "source": [
    "## Change director to import custom dependencies and libraries\n",
    "os.chdir('/Users/elisha/Desktop/EC4308 Week 13/EC4308 Project Code')"
   ]
  },
  {
   "cell_type": "code",
   "execution_count": 102,
   "metadata": {},
   "outputs": [],
   "source": [
    "from Forecasters import TSDatasetGenerator\n",
    "from Forecasters.RFForecaster import RFForecaster"
   ]
  },
  {
   "cell_type": "code",
   "execution_count": 103,
   "metadata": {},
   "outputs": [
    {
     "data": {
      "text/html": [
       "<div>\n",
       "<style scoped>\n",
       "    .dataframe tbody tr th:only-of-type {\n",
       "        vertical-align: middle;\n",
       "    }\n",
       "\n",
       "    .dataframe tbody tr th {\n",
       "        vertical-align: top;\n",
       "    }\n",
       "\n",
       "    .dataframe thead th {\n",
       "        text-align: right;\n",
       "    }\n",
       "</style>\n",
       "<table border=\"1\" class=\"dataframe\">\n",
       "  <thead>\n",
       "    <tr style=\"text-align: right;\">\n",
       "      <th></th>\n",
       "      <th>Is_Recession</th>\n",
       "      <th>PAYEMS</th>\n",
       "      <th>FEDFUNDS</th>\n",
       "      <th>3MTB_SECONDARYMKT</th>\n",
       "      <th>GS1</th>\n",
       "      <th>GS5</th>\n",
       "      <th>GS10</th>\n",
       "      <th>CPI</th>\n",
       "      <th>DEBT_PUB</th>\n",
       "      <th>SP500</th>\n",
       "      <th>INDPRO</th>\n",
       "      <th>UNRATE</th>\n",
       "      <th>10Y3MTH_SPREAD</th>\n",
       "      <th>FEDFUNDS_ROLMEAN3</th>\n",
       "      <th>INDPRO_ROLMEAN3</th>\n",
       "      <th>UNRATE_ROLMEAN3</th>\n",
       "      <th>PAYEMS_3MTHCHANGE</th>\n",
       "      <th>10Y3MTH_SPREAD_3MTHCHANGE</th>\n",
       "      <th>INDPRO_3MTHCHANGE</th>\n",
       "    </tr>\n",
       "  </thead>\n",
       "  <tbody>\n",
       "    <tr>\n",
       "      <th>0</th>\n",
       "      <td>0</td>\n",
       "      <td>275.0</td>\n",
       "      <td>0.23</td>\n",
       "      <td>0.02</td>\n",
       "      <td>0.03</td>\n",
       "      <td>0.06</td>\n",
       "      <td>0.03</td>\n",
       "      <td>-0.623053</td>\n",
       "      <td>0.00000</td>\n",
       "      <td>-4.93</td>\n",
       "      <td>0.3323</td>\n",
       "      <td>0.1</td>\n",
       "      <td>0.01</td>\n",
       "      <td>0.100000</td>\n",
       "      <td>0.286133</td>\n",
       "      <td>0.033333</td>\n",
       "      <td>0.000066</td>\n",
       "      <td>-5.722222</td>\n",
       "      <td>0.003078</td>\n",
       "    </tr>\n",
       "    <tr>\n",
       "      <th>1</th>\n",
       "      <td>0</td>\n",
       "      <td>399.0</td>\n",
       "      <td>0.27</td>\n",
       "      <td>-0.14</td>\n",
       "      <td>0.04</td>\n",
       "      <td>0.08</td>\n",
       "      <td>0.03</td>\n",
       "      <td>0.309598</td>\n",
       "      <td>0.00000</td>\n",
       "      <td>-1.39</td>\n",
       "      <td>0.1662</td>\n",
       "      <td>-0.1</td>\n",
       "      <td>0.17</td>\n",
       "      <td>0.170000</td>\n",
       "      <td>0.184633</td>\n",
       "      <td>0.000000</td>\n",
       "      <td>-0.000044</td>\n",
       "      <td>0.329365</td>\n",
       "      <td>-0.009071</td>\n",
       "    </tr>\n",
       "    <tr>\n",
       "      <th>2</th>\n",
       "      <td>0</td>\n",
       "      <td>190.0</td>\n",
       "      <td>0.13</td>\n",
       "      <td>0.30</td>\n",
       "      <td>0.20</td>\n",
       "      <td>0.20</td>\n",
       "      <td>0.21</td>\n",
       "      <td>-0.000956</td>\n",
       "      <td>0.35328</td>\n",
       "      <td>-1.14</td>\n",
       "      <td>0.1938</td>\n",
       "      <td>0.0</td>\n",
       "      <td>-0.09</td>\n",
       "      <td>0.210000</td>\n",
       "      <td>0.230767</td>\n",
       "      <td>0.000000</td>\n",
       "      <td>-0.000923</td>\n",
       "      <td>0.585165</td>\n",
       "      <td>0.003938</td>\n",
       "    </tr>\n",
       "    <tr>\n",
       "      <th>3</th>\n",
       "      <td>0</td>\n",
       "      <td>206.0</td>\n",
       "      <td>0.23</td>\n",
       "      <td>0.16</td>\n",
       "      <td>0.37</td>\n",
       "      <td>0.33</td>\n",
       "      <td>0.20</td>\n",
       "      <td>0.306743</td>\n",
       "      <td>0.00000</td>\n",
       "      <td>-6.50</td>\n",
       "      <td>0.0277</td>\n",
       "      <td>0.0</td>\n",
       "      <td>0.04</td>\n",
       "      <td>0.210000</td>\n",
       "      <td>0.129233</td>\n",
       "      <td>-0.033333</td>\n",
       "      <td>-0.001142</td>\n",
       "      <td>0.164835</td>\n",
       "      <td>-0.008827</td>\n",
       "    </tr>\n",
       "    <tr>\n",
       "      <th>4</th>\n",
       "      <td>0</td>\n",
       "      <td>136.0</td>\n",
       "      <td>-0.13</td>\n",
       "      <td>0.41</td>\n",
       "      <td>0.28</td>\n",
       "      <td>0.00</td>\n",
       "      <td>-0.04</td>\n",
       "      <td>-0.615385</td>\n",
       "      <td>0.00000</td>\n",
       "      <td>-0.54</td>\n",
       "      <td>0.3323</td>\n",
       "      <td>-0.1</td>\n",
       "      <td>-0.45</td>\n",
       "      <td>0.076667</td>\n",
       "      <td>0.184600</td>\n",
       "      <td>-0.033333</td>\n",
       "      <td>-0.004180</td>\n",
       "      <td>-2.470046</td>\n",
       "      <td>0.004638</td>\n",
       "    </tr>\n",
       "  </tbody>\n",
       "</table>\n",
       "</div>"
      ],
      "text/plain": [
       "   Is_Recession  PAYEMS  FEDFUNDS  3MTB_SECONDARYMKT   GS1   GS5  GS10  \\\n",
       "0             0   275.0      0.23               0.02  0.03  0.06  0.03   \n",
       "1             0   399.0      0.27              -0.14  0.04  0.08  0.03   \n",
       "2             0   190.0      0.13               0.30  0.20  0.20  0.21   \n",
       "3             0   206.0      0.23               0.16  0.37  0.33  0.20   \n",
       "4             0   136.0     -0.13               0.41  0.28  0.00 -0.04   \n",
       "\n",
       "        CPI  DEBT_PUB  SP500  INDPRO  UNRATE  10Y3MTH_SPREAD  \\\n",
       "0 -0.623053   0.00000  -4.93  0.3323     0.1            0.01   \n",
       "1  0.309598   0.00000  -1.39  0.1662    -0.1            0.17   \n",
       "2 -0.000956   0.35328  -1.14  0.1938     0.0           -0.09   \n",
       "3  0.306743   0.00000  -6.50  0.0277     0.0            0.04   \n",
       "4 -0.615385   0.00000  -0.54  0.3323    -0.1           -0.45   \n",
       "\n",
       "   FEDFUNDS_ROLMEAN3  INDPRO_ROLMEAN3  UNRATE_ROLMEAN3  PAYEMS_3MTHCHANGE  \\\n",
       "0           0.100000         0.286133         0.033333           0.000066   \n",
       "1           0.170000         0.184633         0.000000          -0.000044   \n",
       "2           0.210000         0.230767         0.000000          -0.000923   \n",
       "3           0.210000         0.129233        -0.033333          -0.001142   \n",
       "4           0.076667         0.184600        -0.033333          -0.004180   \n",
       "\n",
       "   10Y3MTH_SPREAD_3MTHCHANGE  INDPRO_3MTHCHANGE  \n",
       "0                  -5.722222           0.003078  \n",
       "1                   0.329365          -0.009071  \n",
       "2                   0.585165           0.003938  \n",
       "3                   0.164835          -0.008827  \n",
       "4                  -2.470046           0.004638  "
      ]
     },
     "execution_count": 103,
     "metadata": {},
     "output_type": "execute_result"
    }
   ],
   "source": [
    "## Load datasets\n",
    "# Without DATE col\n",
    "train_data = pd.read_csv('rec_train.csv').drop(columns = ['Unnamed: 0', 'DATE'])\n",
    "train_data.head()"
   ]
  },
  {
   "cell_type": "code",
   "execution_count": 104,
   "metadata": {},
   "outputs": [
    {
     "data": {
      "text/html": [
       "<div>\n",
       "<style scoped>\n",
       "    .dataframe tbody tr th:only-of-type {\n",
       "        vertical-align: middle;\n",
       "    }\n",
       "\n",
       "    .dataframe tbody tr th {\n",
       "        vertical-align: top;\n",
       "    }\n",
       "\n",
       "    .dataframe thead th {\n",
       "        text-align: right;\n",
       "    }\n",
       "</style>\n",
       "<table border=\"1\" class=\"dataframe\">\n",
       "  <thead>\n",
       "    <tr style=\"text-align: right;\">\n",
       "      <th></th>\n",
       "      <th>Is_Recession</th>\n",
       "      <th>PAYEMS</th>\n",
       "      <th>FEDFUNDS</th>\n",
       "      <th>3MTB_SECONDARYMKT</th>\n",
       "      <th>GS1</th>\n",
       "      <th>GS5</th>\n",
       "      <th>GS10</th>\n",
       "      <th>CPI</th>\n",
       "      <th>DEBT_PUB</th>\n",
       "      <th>SP500</th>\n",
       "      <th>INDPRO</th>\n",
       "      <th>UNRATE</th>\n",
       "      <th>10Y3MTH_SPREAD</th>\n",
       "      <th>FEDFUNDS_ROLMEAN3</th>\n",
       "      <th>INDPRO_ROLMEAN3</th>\n",
       "      <th>UNRATE_ROLMEAN3</th>\n",
       "      <th>PAYEMS_3MTHCHANGE</th>\n",
       "      <th>10Y3MTH_SPREAD_3MTHCHANGE</th>\n",
       "      <th>INDPRO_3MTHCHANGE</th>\n",
       "    </tr>\n",
       "  </thead>\n",
       "  <tbody>\n",
       "    <tr>\n",
       "      <th>0</th>\n",
       "      <td>0</td>\n",
       "      <td>275.0</td>\n",
       "      <td>0.23</td>\n",
       "      <td>0.02</td>\n",
       "      <td>0.03</td>\n",
       "      <td>0.06</td>\n",
       "      <td>0.03</td>\n",
       "      <td>-0.623053</td>\n",
       "      <td>0.00000</td>\n",
       "      <td>-4.93</td>\n",
       "      <td>0.3323</td>\n",
       "      <td>0.1</td>\n",
       "      <td>0.01</td>\n",
       "      <td>0.100000</td>\n",
       "      <td>0.286133</td>\n",
       "      <td>0.033333</td>\n",
       "      <td>0.000066</td>\n",
       "      <td>-5.722222</td>\n",
       "      <td>0.003078</td>\n",
       "    </tr>\n",
       "    <tr>\n",
       "      <th>1</th>\n",
       "      <td>0</td>\n",
       "      <td>399.0</td>\n",
       "      <td>0.27</td>\n",
       "      <td>-0.14</td>\n",
       "      <td>0.04</td>\n",
       "      <td>0.08</td>\n",
       "      <td>0.03</td>\n",
       "      <td>0.309598</td>\n",
       "      <td>0.00000</td>\n",
       "      <td>-1.39</td>\n",
       "      <td>0.1662</td>\n",
       "      <td>-0.1</td>\n",
       "      <td>0.17</td>\n",
       "      <td>0.170000</td>\n",
       "      <td>0.184633</td>\n",
       "      <td>0.000000</td>\n",
       "      <td>-0.000044</td>\n",
       "      <td>0.329365</td>\n",
       "      <td>-0.009071</td>\n",
       "    </tr>\n",
       "    <tr>\n",
       "      <th>2</th>\n",
       "      <td>0</td>\n",
       "      <td>190.0</td>\n",
       "      <td>0.13</td>\n",
       "      <td>0.30</td>\n",
       "      <td>0.20</td>\n",
       "      <td>0.20</td>\n",
       "      <td>0.21</td>\n",
       "      <td>-0.000956</td>\n",
       "      <td>0.35328</td>\n",
       "      <td>-1.14</td>\n",
       "      <td>0.1938</td>\n",
       "      <td>0.0</td>\n",
       "      <td>-0.09</td>\n",
       "      <td>0.210000</td>\n",
       "      <td>0.230767</td>\n",
       "      <td>0.000000</td>\n",
       "      <td>-0.000923</td>\n",
       "      <td>0.585165</td>\n",
       "      <td>0.003938</td>\n",
       "    </tr>\n",
       "    <tr>\n",
       "      <th>3</th>\n",
       "      <td>0</td>\n",
       "      <td>206.0</td>\n",
       "      <td>0.23</td>\n",
       "      <td>0.16</td>\n",
       "      <td>0.37</td>\n",
       "      <td>0.33</td>\n",
       "      <td>0.20</td>\n",
       "      <td>0.306743</td>\n",
       "      <td>0.00000</td>\n",
       "      <td>-6.50</td>\n",
       "      <td>0.0277</td>\n",
       "      <td>0.0</td>\n",
       "      <td>0.04</td>\n",
       "      <td>0.210000</td>\n",
       "      <td>0.129233</td>\n",
       "      <td>-0.033333</td>\n",
       "      <td>-0.001142</td>\n",
       "      <td>0.164835</td>\n",
       "      <td>-0.008827</td>\n",
       "    </tr>\n",
       "    <tr>\n",
       "      <th>4</th>\n",
       "      <td>0</td>\n",
       "      <td>136.0</td>\n",
       "      <td>-0.13</td>\n",
       "      <td>0.41</td>\n",
       "      <td>0.28</td>\n",
       "      <td>0.00</td>\n",
       "      <td>-0.04</td>\n",
       "      <td>-0.615385</td>\n",
       "      <td>0.00000</td>\n",
       "      <td>-0.54</td>\n",
       "      <td>0.3323</td>\n",
       "      <td>-0.1</td>\n",
       "      <td>-0.45</td>\n",
       "      <td>0.076667</td>\n",
       "      <td>0.184600</td>\n",
       "      <td>-0.033333</td>\n",
       "      <td>-0.004180</td>\n",
       "      <td>-2.470046</td>\n",
       "      <td>0.004638</td>\n",
       "    </tr>\n",
       "  </tbody>\n",
       "</table>\n",
       "</div>"
      ],
      "text/plain": [
       "   Is_Recession  PAYEMS  FEDFUNDS  3MTB_SECONDARYMKT   GS1   GS5  GS10  \\\n",
       "0             0   275.0      0.23               0.02  0.03  0.06  0.03   \n",
       "1             0   399.0      0.27              -0.14  0.04  0.08  0.03   \n",
       "2             0   190.0      0.13               0.30  0.20  0.20  0.21   \n",
       "3             0   206.0      0.23               0.16  0.37  0.33  0.20   \n",
       "4             0   136.0     -0.13               0.41  0.28  0.00 -0.04   \n",
       "\n",
       "        CPI  DEBT_PUB  SP500  INDPRO  UNRATE  10Y3MTH_SPREAD  \\\n",
       "0 -0.623053   0.00000  -4.93  0.3323     0.1            0.01   \n",
       "1  0.309598   0.00000  -1.39  0.1662    -0.1            0.17   \n",
       "2 -0.000956   0.35328  -1.14  0.1938     0.0           -0.09   \n",
       "3  0.306743   0.00000  -6.50  0.0277     0.0            0.04   \n",
       "4 -0.615385   0.00000  -0.54  0.3323    -0.1           -0.45   \n",
       "\n",
       "   FEDFUNDS_ROLMEAN3  INDPRO_ROLMEAN3  UNRATE_ROLMEAN3  PAYEMS_3MTHCHANGE  \\\n",
       "0           0.100000         0.286133         0.033333           0.000066   \n",
       "1           0.170000         0.184633         0.000000          -0.000044   \n",
       "2           0.210000         0.230767         0.000000          -0.000923   \n",
       "3           0.210000         0.129233        -0.033333          -0.001142   \n",
       "4           0.076667         0.184600        -0.033333          -0.004180   \n",
       "\n",
       "   10Y3MTH_SPREAD_3MTHCHANGE  INDPRO_3MTHCHANGE  \n",
       "0                  -5.722222           0.003078  \n",
       "1                   0.329365          -0.009071  \n",
       "2                   0.585165           0.003938  \n",
       "3                   0.164835          -0.008827  \n",
       "4                  -2.470046           0.004638  "
      ]
     },
     "execution_count": 104,
     "metadata": {},
     "output_type": "execute_result"
    }
   ],
   "source": [
    "test_data = pd.read_csv('rec_train.csv').drop(columns = ['Unnamed: 0', 'DATE'])\n",
    "test_data.head()"
   ]
  },
  {
   "cell_type": "code",
   "execution_count": 105,
   "metadata": {},
   "outputs": [],
   "source": [
    "## Create_datasets\n",
    "dataset_generator = TSDatasetGenerator()"
   ]
  },
  {
   "cell_type": "code",
   "execution_count": 106,
   "metadata": {},
   "outputs": [],
   "source": [
    "## Auxiliary function to generate Classification Report\n",
    "def genClassificationRep(y_true, y_pred):\n",
    "    return pd.DataFrame(classification_report(y_true, y_pred, output_dict=True))"
   ]
  },
  {
   "cell_type": "code",
   "execution_count": 119,
   "metadata": {},
   "outputs": [],
   "source": [
    "## Grid Search Candidate Parameters\n",
    "grid_param = {\n",
    "    'n_estimators': [100, 300],\n",
    "    'criterion': ['gini'],\n",
    "    'bootstrap': [True],\n",
    "    'max_depth': [2, 4],\n",
    "    'class_weight': ['balanced_subsample', 'balanced'],\n",
    "    'random_state': [42]\n",
    "}"
   ]
  },
  {
   "cell_type": "code",
   "execution_count": 114,
   "metadata": {},
   "outputs": [],
   "source": [
    "## Auxiliary function to train models and log results for various combinations of h, k and l\n",
    "def runBehemoth(grid_params, data, target_feature, n_splits, model='RF', h=1, k_range=[], l_range=[]):\n",
    "    results = []\n",
    "    label_index = []\n",
    "\n",
    "    # Instantiate dataset generator\n",
    "    dataset_generator = TSDatasetGenerator()\n",
    "\n",
    "    # Loop over all combinations of k and l\n",
    "    for k in k_range:\n",
    "        for l in l_range:\n",
    "            # Instantiate model\n",
    "            if model == 'XGB':\n",
    "                selected_model = XGBForecaster()\n",
    "            elif model == 'RF':\n",
    "                selected_model = RFForecaster()\n",
    "            else:\n",
    "                print('Please select a valid model: RF or XGB')\n",
    "                return None\n",
    "\n",
    "            # Label for output (h, k, l)\n",
    "            res_label = \"(h=%d, k=%d, l=%d)\" % (h, k, l)\n",
    "            print(\"Running grid search for the dataset with params: \" + res_label)\n",
    "            # Create datasets\n",
    "            train = dataset_generator.fit_transform(data, target_feature, h, k, l)\n",
    "            train_X = train.drop(columns=['Target Feature'])\n",
    "            train_y = train['Target Feature']\n",
    "\n",
    "            # Fit model\n",
    "            fitted_model = selected_model.fit(train_X, train_y)\n",
    "            fitted_model.grid_search_CV(grid_params, n_splits=n_splits)\n",
    "\n",
    "            # Log results\n",
    "            result = {}\n",
    "            result['Best score (log-loss)'] = fitted_model.getBestScore()\n",
    "            result['Best params'] = fitted_model.getBestParams()\n",
    "            result['Best model'] = fitted_model.getBestModel()\n",
    "            result['Feature Importance'] = fitted_model.getFeatureImportance()\n",
    "            results.append(result)\n",
    "            label_index.append(res_label)\n",
    "\n",
    "    labels_index = pd.DataFrame(label_index, columns=['Dataset'])\n",
    "    results_final = pd.DataFrame(results)\n",
    "    collected_results = pd.concat([labels_index, results_final], axis=1)\n",
    "    return collected_results        "
   ]
  },
  {
   "cell_type": "code",
   "execution_count": 120,
   "metadata": {},
   "outputs": [
    {
     "name": "stderr",
     "output_type": "stream",
     "text": [
      "  0%|          | 1/300 [00:00<00:48,  6.14it/s]"
     ]
    },
    {
     "name": "stdout",
     "output_type": "stream",
     "text": [
      "Running grid search for the dataset with params: (h=1, k=1, l=1)\n",
      "Dropping any existing invalid observations\n",
      "Recursive cross val data generated, number of split: 300\n"
     ]
    },
    {
     "name": "stderr",
     "output_type": "stream",
     "text": [
      "100%|██████████| 300/300 [00:42<00:00,  7.03it/s]\n",
      "  0%|          | 0/600 [00:00<?, ?it/s]"
     ]
    },
    {
     "name": "stdout",
     "output_type": "stream",
     "text": [
      "Recursive cross val data generated, number of split: 300\n"
     ]
    },
    {
     "name": "stderr",
     "output_type": "stream",
     "text": [
      "100%|██████████| 600/600 [04:08<00:00,  2.42it/s]\n",
      "  0%|          | 1/900 [00:00<02:07,  7.04it/s]"
     ]
    },
    {
     "name": "stdout",
     "output_type": "stream",
     "text": [
      "Recursive cross val data generated, number of split: 300\n"
     ]
    },
    {
     "name": "stderr",
     "output_type": "stream",
     "text": [
      "100%|██████████| 900/900 [02:14<00:00,  6.67it/s]\n",
      "  0%|          | 0/1200 [00:00<?, ?it/s]"
     ]
    },
    {
     "name": "stdout",
     "output_type": "stream",
     "text": [
      "Recursive cross val data generated, number of split: 300\n"
     ]
    },
    {
     "name": "stderr",
     "output_type": "stream",
     "text": [
      "100%|██████████| 1200/1200 [08:45<00:00,  2.28it/s]\n",
      "  0%|          | 1/1500 [00:00<02:54,  8.58it/s]"
     ]
    },
    {
     "name": "stdout",
     "output_type": "stream",
     "text": [
      "Recursive cross val data generated, number of split: 300\n"
     ]
    },
    {
     "name": "stderr",
     "output_type": "stream",
     "text": [
      "100%|██████████| 1500/1500 [02:58<00:00,  8.41it/s]\n",
      "  0%|          | 0/1800 [00:00<?, ?it/s]"
     ]
    },
    {
     "name": "stdout",
     "output_type": "stream",
     "text": [
      "Recursive cross val data generated, number of split: 300\n"
     ]
    },
    {
     "name": "stderr",
     "output_type": "stream",
     "text": [
      "100%|██████████| 1800/1800 [10:24<00:00,  2.88it/s]\n",
      "  0%|          | 1/2100 [00:00<04:02,  8.65it/s]"
     ]
    },
    {
     "name": "stdout",
     "output_type": "stream",
     "text": [
      "Recursive cross val data generated, number of split: 300\n"
     ]
    },
    {
     "name": "stderr",
     "output_type": "stream",
     "text": [
      "100%|██████████| 2100/2100 [04:26<00:00,  7.89it/s]\n",
      "  0%|          | 0/2400 [00:00<?, ?it/s]"
     ]
    },
    {
     "name": "stdout",
     "output_type": "stream",
     "text": [
      "Recursive cross val data generated, number of split: 300\n"
     ]
    },
    {
     "name": "stderr",
     "output_type": "stream",
     "text": [
      "100%|██████████| 2400/2400 [14:49<00:00,  2.70it/s]\n",
      "  0%|          | 1/300 [00:00<00:40,  7.38it/s]"
     ]
    },
    {
     "name": "stdout",
     "output_type": "stream",
     "text": [
      "Running grid search for the dataset with params: (h=1, k=1, l=2)\n",
      "Dropping any existing invalid observations\n",
      "Recursive cross val data generated, number of split: 300\n"
     ]
    },
    {
     "name": "stderr",
     "output_type": "stream",
     "text": [
      "100%|██████████| 300/300 [00:42<00:00,  6.98it/s]\n",
      "  0%|          | 0/600 [00:00<?, ?it/s]"
     ]
    },
    {
     "name": "stdout",
     "output_type": "stream",
     "text": [
      "Recursive cross val data generated, number of split: 300\n"
     ]
    },
    {
     "name": "stderr",
     "output_type": "stream",
     "text": [
      "100%|██████████| 600/600 [04:11<00:00,  2.39it/s]\n",
      "  0%|          | 1/900 [00:00<02:05,  7.14it/s]"
     ]
    },
    {
     "name": "stdout",
     "output_type": "stream",
     "text": [
      "Recursive cross val data generated, number of split: 300\n"
     ]
    },
    {
     "name": "stderr",
     "output_type": "stream",
     "text": [
      "100%|██████████| 900/900 [02:20<00:00,  6.43it/s]\n",
      "  0%|          | 0/1200 [00:00<?, ?it/s]"
     ]
    },
    {
     "name": "stdout",
     "output_type": "stream",
     "text": [
      "Recursive cross val data generated, number of split: 300\n"
     ]
    },
    {
     "name": "stderr",
     "output_type": "stream",
     "text": [
      "100%|██████████| 1200/1200 [08:57<00:00,  2.23it/s]\n",
      "  0%|          | 1/1500 [00:00<02:58,  8.39it/s]"
     ]
    },
    {
     "name": "stdout",
     "output_type": "stream",
     "text": [
      "Recursive cross val data generated, number of split: 300\n"
     ]
    },
    {
     "name": "stderr",
     "output_type": "stream",
     "text": [
      "100%|██████████| 1500/1500 [03:00<00:00,  8.29it/s]\n",
      "  0%|          | 0/1800 [00:00<?, ?it/s]"
     ]
    },
    {
     "name": "stdout",
     "output_type": "stream",
     "text": [
      "Recursive cross val data generated, number of split: 300\n"
     ]
    },
    {
     "name": "stderr",
     "output_type": "stream",
     "text": [
      "100%|██████████| 1800/1800 [10:30<00:00,  2.85it/s]\n",
      "  0%|          | 1/2100 [00:00<04:13,  8.27it/s]"
     ]
    },
    {
     "name": "stdout",
     "output_type": "stream",
     "text": [
      "Recursive cross val data generated, number of split: 300\n"
     ]
    },
    {
     "name": "stderr",
     "output_type": "stream",
     "text": [
      "100%|██████████| 2100/2100 [04:34<00:00,  7.66it/s]\n",
      "  0%|          | 0/2400 [00:00<?, ?it/s]"
     ]
    },
    {
     "name": "stdout",
     "output_type": "stream",
     "text": [
      "Recursive cross val data generated, number of split: 300\n"
     ]
    },
    {
     "name": "stderr",
     "output_type": "stream",
     "text": [
      "100%|██████████| 2400/2400 [15:12<00:00,  2.63it/s]\n",
      "  0%|          | 1/300 [00:00<00:42,  7.08it/s]"
     ]
    },
    {
     "name": "stdout",
     "output_type": "stream",
     "text": [
      "Running grid search for the dataset with params: (h=1, k=1, l=3)\n",
      "Dropping any existing invalid observations\n",
      "Recursive cross val data generated, number of split: 300\n"
     ]
    },
    {
     "name": "stderr",
     "output_type": "stream",
     "text": [
      "100%|██████████| 300/300 [00:43<00:00,  6.87it/s]\n",
      "  0%|          | 0/600 [00:00<?, ?it/s]"
     ]
    },
    {
     "name": "stdout",
     "output_type": "stream",
     "text": [
      "Recursive cross val data generated, number of split: 300\n"
     ]
    },
    {
     "name": "stderr",
     "output_type": "stream",
     "text": [
      "100%|██████████| 600/600 [05:11<00:00,  1.93it/s]  \n",
      "  0%|          | 1/900 [00:00<02:09,  6.93it/s]"
     ]
    },
    {
     "name": "stdout",
     "output_type": "stream",
     "text": [
      "Recursive cross val data generated, number of split: 300\n"
     ]
    },
    {
     "name": "stderr",
     "output_type": "stream",
     "text": [
      "100%|██████████| 900/900 [02:21<00:00,  6.38it/s]\n",
      "  0%|          | 0/1200 [00:00<?, ?it/s]"
     ]
    },
    {
     "name": "stdout",
     "output_type": "stream",
     "text": [
      "Recursive cross val data generated, number of split: 300\n"
     ]
    },
    {
     "name": "stderr",
     "output_type": "stream",
     "text": [
      "100%|██████████| 1200/1200 [09:34<00:00,  2.09it/s]\n",
      "  0%|          | 1/1500 [00:00<03:11,  7.83it/s]"
     ]
    },
    {
     "name": "stdout",
     "output_type": "stream",
     "text": [
      "Recursive cross val data generated, number of split: 300\n"
     ]
    },
    {
     "name": "stderr",
     "output_type": "stream",
     "text": [
      "100%|██████████| 1500/1500 [03:07<00:00,  7.99it/s]\n",
      "  0%|          | 0/1800 [00:00<?, ?it/s]"
     ]
    },
    {
     "name": "stdout",
     "output_type": "stream",
     "text": [
      "Recursive cross val data generated, number of split: 300\n"
     ]
    },
    {
     "name": "stderr",
     "output_type": "stream",
     "text": [
      "100%|██████████| 1800/1800 [11:18<00:00,  2.65it/s]\n",
      "  0%|          | 1/2100 [00:00<04:22,  8.00it/s]"
     ]
    },
    {
     "name": "stdout",
     "output_type": "stream",
     "text": [
      "Recursive cross val data generated, number of split: 300\n"
     ]
    },
    {
     "name": "stderr",
     "output_type": "stream",
     "text": [
      "100%|██████████| 2100/2100 [04:56<00:00,  7.07it/s]\n",
      "  0%|          | 0/2400 [00:00<?, ?it/s]"
     ]
    },
    {
     "name": "stdout",
     "output_type": "stream",
     "text": [
      "Recursive cross val data generated, number of split: 300\n"
     ]
    },
    {
     "name": "stderr",
     "output_type": "stream",
     "text": [
      "100%|██████████| 2400/2400 [15:57<00:00,  2.51it/s]\n",
      "  0%|          | 1/300 [00:00<00:38,  7.87it/s]"
     ]
    },
    {
     "name": "stdout",
     "output_type": "stream",
     "text": [
      "Running grid search for the dataset with params: (h=1, k=2, l=1)\n",
      "Dropping any existing invalid observations\n",
      "Recursive cross val data generated, number of split: 300\n"
     ]
    },
    {
     "name": "stderr",
     "output_type": "stream",
     "text": [
      "100%|██████████| 300/300 [03:38<00:00,  1.37it/s]  \n",
      "  0%|          | 0/600 [00:00<?, ?it/s]"
     ]
    },
    {
     "name": "stdout",
     "output_type": "stream",
     "text": [
      "Recursive cross val data generated, number of split: 300\n"
     ]
    },
    {
     "name": "stderr",
     "output_type": "stream",
     "text": [
      "100%|██████████| 600/600 [04:16<00:00,  2.34it/s]\n",
      "  0%|          | 1/900 [00:00<01:58,  7.58it/s]"
     ]
    },
    {
     "name": "stdout",
     "output_type": "stream",
     "text": [
      "Recursive cross val data generated, number of split: 300\n"
     ]
    },
    {
     "name": "stderr",
     "output_type": "stream",
     "text": [
      "100%|██████████| 900/900 [02:17<00:00,  6.57it/s]\n",
      "  0%|          | 0/1200 [00:00<?, ?it/s]"
     ]
    },
    {
     "name": "stdout",
     "output_type": "stream",
     "text": [
      "Recursive cross val data generated, number of split: 300\n"
     ]
    },
    {
     "name": "stderr",
     "output_type": "stream",
     "text": [
      "100%|██████████| 1200/1200 [08:46<00:00,  2.28it/s]\n",
      "  0%|          | 1/1500 [00:00<02:42,  9.24it/s]"
     ]
    },
    {
     "name": "stdout",
     "output_type": "stream",
     "text": [
      "Recursive cross val data generated, number of split: 300\n"
     ]
    },
    {
     "name": "stderr",
     "output_type": "stream",
     "text": [
      "100%|██████████| 1500/1500 [02:57<00:00,  8.45it/s]\n",
      "  0%|          | 0/1800 [00:00<?, ?it/s]"
     ]
    },
    {
     "name": "stdout",
     "output_type": "stream",
     "text": [
      "Recursive cross val data generated, number of split: 300\n"
     ]
    },
    {
     "name": "stderr",
     "output_type": "stream",
     "text": [
      "100%|██████████| 1800/1800 [10:33<00:00,  2.84it/s]\n",
      "  0%|          | 1/2100 [00:00<03:51,  9.07it/s]"
     ]
    },
    {
     "name": "stdout",
     "output_type": "stream",
     "text": [
      "Recursive cross val data generated, number of split: 300\n"
     ]
    },
    {
     "name": "stderr",
     "output_type": "stream",
     "text": [
      "100%|██████████| 2100/2100 [04:37<00:00,  7.58it/s]\n",
      "  0%|          | 0/2400 [00:00<?, ?it/s]"
     ]
    },
    {
     "name": "stdout",
     "output_type": "stream",
     "text": [
      "Recursive cross val data generated, number of split: 300\n"
     ]
    },
    {
     "name": "stderr",
     "output_type": "stream",
     "text": [
      "100%|██████████| 2400/2400 [15:39<00:00,  2.56it/s]\n",
      "  0%|          | 1/300 [00:00<00:42,  7.07it/s]"
     ]
    },
    {
     "name": "stdout",
     "output_type": "stream",
     "text": [
      "Running grid search for the dataset with params: (h=1, k=2, l=2)\n",
      "Dropping any existing invalid observations\n",
      "Recursive cross val data generated, number of split: 300\n"
     ]
    },
    {
     "name": "stderr",
     "output_type": "stream",
     "text": [
      "100%|██████████| 300/300 [00:46<00:00,  6.39it/s]\n",
      "  0%|          | 0/600 [00:00<?, ?it/s]"
     ]
    },
    {
     "name": "stdout",
     "output_type": "stream",
     "text": [
      "Recursive cross val data generated, number of split: 300\n"
     ]
    },
    {
     "name": "stderr",
     "output_type": "stream",
     "text": [
      "100%|██████████| 600/600 [04:31<00:00,  2.21it/s]\n",
      "  0%|          | 1/900 [00:00<01:58,  7.57it/s]"
     ]
    },
    {
     "name": "stdout",
     "output_type": "stream",
     "text": [
      "Recursive cross val data generated, number of split: 300\n"
     ]
    },
    {
     "name": "stderr",
     "output_type": "stream",
     "text": [
      "100%|██████████| 900/900 [02:17<00:00,  6.57it/s]\n",
      "  0%|          | 0/1200 [00:00<?, ?it/s]"
     ]
    },
    {
     "name": "stdout",
     "output_type": "stream",
     "text": [
      "Recursive cross val data generated, number of split: 300\n"
     ]
    },
    {
     "name": "stderr",
     "output_type": "stream",
     "text": [
      "100%|██████████| 1200/1200 [2:14:49<00:00,  6.74s/it]     \n",
      "  0%|          | 1/1500 [00:00<02:46,  8.99it/s]"
     ]
    },
    {
     "name": "stdout",
     "output_type": "stream",
     "text": [
      "Recursive cross val data generated, number of split: 300\n"
     ]
    },
    {
     "name": "stderr",
     "output_type": "stream",
     "text": [
      "100%|██████████| 1500/1500 [03:02<00:00,  8.22it/s]\n",
      "  0%|          | 0/1800 [00:00<?, ?it/s]"
     ]
    },
    {
     "name": "stdout",
     "output_type": "stream",
     "text": [
      "Recursive cross val data generated, number of split: 300\n"
     ]
    },
    {
     "name": "stderr",
     "output_type": "stream",
     "text": [
      "100%|██████████| 1800/1800 [10:36<00:00,  2.83it/s]\n",
      "  0%|          | 1/2100 [00:00<04:41,  7.46it/s]"
     ]
    },
    {
     "name": "stdout",
     "output_type": "stream",
     "text": [
      "Recursive cross val data generated, number of split: 300\n"
     ]
    },
    {
     "name": "stderr",
     "output_type": "stream",
     "text": [
      "100%|██████████| 2100/2100 [04:40<00:00,  7.48it/s]\n",
      "  0%|          | 0/2400 [00:00<?, ?it/s]"
     ]
    },
    {
     "name": "stdout",
     "output_type": "stream",
     "text": [
      "Recursive cross val data generated, number of split: 300\n"
     ]
    },
    {
     "name": "stderr",
     "output_type": "stream",
     "text": [
      "100%|██████████| 2400/2400 [15:55<00:00,  2.51it/s]\n",
      "  0%|          | 1/300 [00:00<00:40,  7.31it/s]"
     ]
    },
    {
     "name": "stdout",
     "output_type": "stream",
     "text": [
      "Running grid search for the dataset with params: (h=1, k=2, l=3)\n",
      "Dropping any existing invalid observations\n",
      "Recursive cross val data generated, number of split: 300\n"
     ]
    },
    {
     "name": "stderr",
     "output_type": "stream",
     "text": [
      "100%|██████████| 300/300 [00:45<00:00,  6.64it/s]\n",
      "  0%|          | 0/600 [00:00<?, ?it/s]"
     ]
    },
    {
     "name": "stdout",
     "output_type": "stream",
     "text": [
      "Recursive cross val data generated, number of split: 300\n"
     ]
    },
    {
     "name": "stderr",
     "output_type": "stream",
     "text": [
      "100%|██████████| 600/600 [04:26<00:00,  2.25it/s]\n",
      "  0%|          | 1/900 [00:00<02:04,  7.22it/s]"
     ]
    },
    {
     "name": "stdout",
     "output_type": "stream",
     "text": [
      "Recursive cross val data generated, number of split: 300\n"
     ]
    },
    {
     "name": "stderr",
     "output_type": "stream",
     "text": [
      "100%|██████████| 900/900 [02:26<00:00,  6.13it/s]\n",
      "  0%|          | 0/1200 [00:00<?, ?it/s]"
     ]
    },
    {
     "name": "stdout",
     "output_type": "stream",
     "text": [
      "Recursive cross val data generated, number of split: 300\n"
     ]
    },
    {
     "name": "stderr",
     "output_type": "stream",
     "text": [
      "100%|██████████| 1200/1200 [09:31<00:00,  2.10it/s]\n",
      "  0%|          | 1/1500 [00:00<02:49,  8.83it/s]"
     ]
    },
    {
     "name": "stdout",
     "output_type": "stream",
     "text": [
      "Recursive cross val data generated, number of split: 300\n"
     ]
    },
    {
     "name": "stderr",
     "output_type": "stream",
     "text": [
      "100%|██████████| 1500/1500 [03:03<00:00,  8.18it/s]\n",
      "  0%|          | 0/1800 [00:00<?, ?it/s]"
     ]
    },
    {
     "name": "stdout",
     "output_type": "stream",
     "text": [
      "Recursive cross val data generated, number of split: 300\n"
     ]
    },
    {
     "name": "stderr",
     "output_type": "stream",
     "text": [
      "100%|██████████| 1800/1800 [16:15<00:00,  1.85it/s]  \n",
      "  0%|          | 1/2100 [00:00<04:12,  8.31it/s]"
     ]
    },
    {
     "name": "stdout",
     "output_type": "stream",
     "text": [
      "Recursive cross val data generated, number of split: 300\n"
     ]
    },
    {
     "name": "stderr",
     "output_type": "stream",
     "text": [
      "100%|██████████| 2100/2100 [04:49<00:00,  7.25it/s]\n",
      "  0%|          | 0/2400 [00:00<?, ?it/s]"
     ]
    },
    {
     "name": "stdout",
     "output_type": "stream",
     "text": [
      "Recursive cross val data generated, number of split: 300\n"
     ]
    },
    {
     "name": "stderr",
     "output_type": "stream",
     "text": [
      "100%|██████████| 2400/2400 [16:23<00:00,  2.44it/s]\n",
      "  0%|          | 1/300 [00:00<00:42,  7.01it/s]"
     ]
    },
    {
     "name": "stdout",
     "output_type": "stream",
     "text": [
      "Running grid search for the dataset with params: (h=1, k=3, l=1)\n",
      "Dropping any existing invalid observations\n",
      "Recursive cross val data generated, number of split: 300\n"
     ]
    },
    {
     "name": "stderr",
     "output_type": "stream",
     "text": [
      "100%|██████████| 300/300 [00:43<00:00,  6.91it/s]\n",
      "  0%|          | 0/600 [00:00<?, ?it/s]"
     ]
    },
    {
     "name": "stdout",
     "output_type": "stream",
     "text": [
      "Recursive cross val data generated, number of split: 300\n"
     ]
    },
    {
     "name": "stderr",
     "output_type": "stream",
     "text": [
      "100%|██████████| 600/600 [04:13<00:00,  2.37it/s]\n",
      "  0%|          | 1/900 [00:00<02:02,  7.35it/s]"
     ]
    },
    {
     "name": "stdout",
     "output_type": "stream",
     "text": [
      "Recursive cross val data generated, number of split: 300\n"
     ]
    },
    {
     "name": "stderr",
     "output_type": "stream",
     "text": [
      "100%|██████████| 900/900 [02:25<00:00,  6.20it/s]\n",
      "  0%|          | 0/1200 [00:00<?, ?it/s]"
     ]
    },
    {
     "name": "stdout",
     "output_type": "stream",
     "text": [
      "Recursive cross val data generated, number of split: 300\n"
     ]
    },
    {
     "name": "stderr",
     "output_type": "stream",
     "text": [
      "100%|██████████| 1200/1200 [09:08<00:00,  2.19it/s]\n",
      "  0%|          | 1/1500 [00:00<02:52,  8.69it/s]"
     ]
    },
    {
     "name": "stdout",
     "output_type": "stream",
     "text": [
      "Recursive cross val data generated, number of split: 300\n"
     ]
    },
    {
     "name": "stderr",
     "output_type": "stream",
     "text": [
      "100%|██████████| 1500/1500 [03:04<00:00,  8.15it/s]\n",
      "  0%|          | 0/1800 [00:00<?, ?it/s]"
     ]
    },
    {
     "name": "stdout",
     "output_type": "stream",
     "text": [
      "Recursive cross val data generated, number of split: 300\n"
     ]
    },
    {
     "name": "stderr",
     "output_type": "stream",
     "text": [
      "100%|██████████| 1800/1800 [10:44<00:00,  2.79it/s]\n",
      "  0%|          | 1/2100 [00:00<04:18,  8.13it/s]"
     ]
    },
    {
     "name": "stdout",
     "output_type": "stream",
     "text": [
      "Recursive cross val data generated, number of split: 300\n"
     ]
    },
    {
     "name": "stderr",
     "output_type": "stream",
     "text": [
      "100%|██████████| 2100/2100 [04:36<00:00,  7.59it/s]\n",
      "  0%|          | 0/2400 [00:00<?, ?it/s]"
     ]
    },
    {
     "name": "stdout",
     "output_type": "stream",
     "text": [
      "Recursive cross val data generated, number of split: 300\n"
     ]
    },
    {
     "name": "stderr",
     "output_type": "stream",
     "text": [
      "100%|██████████| 2400/2400 [15:16<00:00,  2.62it/s]\n",
      "  0%|          | 1/300 [00:00<00:39,  7.48it/s]"
     ]
    },
    {
     "name": "stdout",
     "output_type": "stream",
     "text": [
      "Running grid search for the dataset with params: (h=1, k=3, l=2)\n",
      "Dropping any existing invalid observations\n",
      "Recursive cross val data generated, number of split: 300\n"
     ]
    },
    {
     "name": "stderr",
     "output_type": "stream",
     "text": [
      "100%|██████████| 300/300 [00:45<00:00,  6.62it/s]\n",
      "  0%|          | 0/600 [00:00<?, ?it/s]"
     ]
    },
    {
     "name": "stdout",
     "output_type": "stream",
     "text": [
      "Recursive cross val data generated, number of split: 300\n"
     ]
    },
    {
     "name": "stderr",
     "output_type": "stream",
     "text": [
      "100%|██████████| 600/600 [04:19<00:00,  2.31it/s]\n",
      "  0%|          | 1/900 [00:00<02:01,  7.38it/s]"
     ]
    },
    {
     "name": "stdout",
     "output_type": "stream",
     "text": [
      "Recursive cross val data generated, number of split: 300\n"
     ]
    },
    {
     "name": "stderr",
     "output_type": "stream",
     "text": [
      "100%|██████████| 900/900 [02:17<00:00,  6.52it/s]\n",
      "  0%|          | 0/1200 [00:00<?, ?it/s]"
     ]
    },
    {
     "name": "stdout",
     "output_type": "stream",
     "text": [
      "Recursive cross val data generated, number of split: 300\n"
     ]
    },
    {
     "name": "stderr",
     "output_type": "stream",
     "text": [
      "100%|██████████| 1200/1200 [08:51<00:00,  2.26it/s]\n",
      "  0%|          | 1/1500 [00:00<02:46,  8.99it/s]"
     ]
    },
    {
     "name": "stdout",
     "output_type": "stream",
     "text": [
      "Recursive cross val data generated, number of split: 300\n"
     ]
    },
    {
     "name": "stderr",
     "output_type": "stream",
     "text": [
      "100%|██████████| 1500/1500 [03:05<00:00,  8.09it/s]\n",
      "  0%|          | 0/1800 [00:00<?, ?it/s]"
     ]
    },
    {
     "name": "stdout",
     "output_type": "stream",
     "text": [
      "Recursive cross val data generated, number of split: 300\n"
     ]
    },
    {
     "name": "stderr",
     "output_type": "stream",
     "text": [
      "100%|██████████| 1800/1800 [10:49<00:00,  2.77it/s]\n",
      "  0%|          | 1/2100 [00:00<03:58,  8.79it/s]"
     ]
    },
    {
     "name": "stdout",
     "output_type": "stream",
     "text": [
      "Recursive cross val data generated, number of split: 300\n"
     ]
    },
    {
     "name": "stderr",
     "output_type": "stream",
     "text": [
      "100%|██████████| 2100/2100 [04:33<00:00,  7.67it/s]\n",
      "  0%|          | 0/2400 [00:00<?, ?it/s]"
     ]
    },
    {
     "name": "stdout",
     "output_type": "stream",
     "text": [
      "Recursive cross val data generated, number of split: 300\n"
     ]
    },
    {
     "name": "stderr",
     "output_type": "stream",
     "text": [
      "100%|██████████| 2400/2400 [15:10<00:00,  2.64it/s]\n",
      "  0%|          | 1/300 [00:00<00:38,  7.69it/s]"
     ]
    },
    {
     "name": "stdout",
     "output_type": "stream",
     "text": [
      "Running grid search for the dataset with params: (h=1, k=3, l=3)\n",
      "Dropping any existing invalid observations\n",
      "Recursive cross val data generated, number of split: 300\n"
     ]
    },
    {
     "name": "stderr",
     "output_type": "stream",
     "text": [
      "100%|██████████| 300/300 [00:43<00:00,  6.92it/s]\n",
      "  0%|          | 0/600 [00:00<?, ?it/s]"
     ]
    },
    {
     "name": "stdout",
     "output_type": "stream",
     "text": [
      "Recursive cross val data generated, number of split: 300\n"
     ]
    },
    {
     "name": "stderr",
     "output_type": "stream",
     "text": [
      "100%|██████████| 600/600 [04:20<00:00,  2.30it/s]\n",
      "  0%|          | 1/900 [00:00<02:05,  7.14it/s]"
     ]
    },
    {
     "name": "stdout",
     "output_type": "stream",
     "text": [
      "Recursive cross val data generated, number of split: 300\n"
     ]
    },
    {
     "name": "stderr",
     "output_type": "stream",
     "text": [
      "100%|██████████| 900/900 [02:22<00:00,  6.30it/s]\n",
      "  0%|          | 0/1200 [00:00<?, ?it/s]"
     ]
    },
    {
     "name": "stdout",
     "output_type": "stream",
     "text": [
      "Recursive cross val data generated, number of split: 300\n"
     ]
    },
    {
     "name": "stderr",
     "output_type": "stream",
     "text": [
      "100%|██████████| 1200/1200 [09:07<00:00,  2.19it/s]\n",
      "  0%|          | 1/1500 [00:00<02:47,  8.96it/s]"
     ]
    },
    {
     "name": "stdout",
     "output_type": "stream",
     "text": [
      "Recursive cross val data generated, number of split: 300\n"
     ]
    },
    {
     "name": "stderr",
     "output_type": "stream",
     "text": [
      "100%|██████████| 1500/1500 [03:09<00:00,  7.91it/s]\n",
      "  0%|          | 0/1800 [00:00<?, ?it/s]"
     ]
    },
    {
     "name": "stdout",
     "output_type": "stream",
     "text": [
      "Recursive cross val data generated, number of split: 300\n"
     ]
    },
    {
     "name": "stderr",
     "output_type": "stream",
     "text": [
      "100%|██████████| 1800/1800 [10:49<00:00,  2.77it/s]\n",
      "  0%|          | 1/2100 [00:00<04:06,  8.51it/s]"
     ]
    },
    {
     "name": "stdout",
     "output_type": "stream",
     "text": [
      "Recursive cross val data generated, number of split: 300\n"
     ]
    },
    {
     "name": "stderr",
     "output_type": "stream",
     "text": [
      "100%|██████████| 2100/2100 [04:38<00:00,  7.54it/s]\n",
      "  0%|          | 0/2400 [00:00<?, ?it/s]"
     ]
    },
    {
     "name": "stdout",
     "output_type": "stream",
     "text": [
      "Recursive cross val data generated, number of split: 300\n"
     ]
    },
    {
     "name": "stderr",
     "output_type": "stream",
     "text": [
      "100%|██████████| 2400/2400 [16:59<00:00,  2.35it/s]\n"
     ]
    }
   ],
   "source": [
    "## 1 Step Ahead Forecast\n",
    "one_step_results = runBehemoth(grid_param,\n",
    "                               train_data,\n",
    "                               'Is_Recession',\n",
    "                               300,\n",
    "                               k_range=[1, 2, 3],\n",
    "                               l_range=[1, 2, 3])"
   ]
  },
  {
   "cell_type": "code",
   "execution_count": 121,
   "metadata": {},
   "outputs": [],
   "source": [
    "## Write out results\n",
    "one_step_results.to_csv('one_step_rf_results.csv', index=False)"
   ]
  },
  {
   "cell_type": "code",
   "execution_count": null,
   "metadata": {},
   "outputs": [],
   "source": [
    "## 3 Step Ahead Forecast\n",
    "three_step_results = runBehemoth(grid_param,\n",
    "                                 train_data,\n",
    "                                 'Is_Recession',\n",
    "                                 300,\n",
    "                                 k_range=[1, 2, 3, 4, 5, 6],\n",
    "                                 l_range=[1, 2, 3, 4, 5, 6])"
   ]
  },
  {
   "cell_type": "code",
   "execution_count": 116,
   "metadata": {},
   "outputs": [
    {
     "ename": "AttributeError",
     "evalue": "'NoneType' object has no attribute 'to_csv'",
     "output_type": "error",
     "traceback": [
      "\u001b[0;31m---------------------------------------------------------------------------\u001b[0m",
      "\u001b[0;31mAttributeError\u001b[0m                            Traceback (most recent call last)",
      "\u001b[0;32m<ipython-input-116-b14923a9562d>\u001b[0m in \u001b[0;36m<module>\u001b[0;34m\u001b[0m\n\u001b[1;32m      1\u001b[0m \u001b[0;31m## Write out results\u001b[0m\u001b[0;34m\u001b[0m\u001b[0;34m\u001b[0m\u001b[0;34m\u001b[0m\u001b[0m\n\u001b[0;32m----> 2\u001b[0;31m \u001b[0mthree_step_results\u001b[0m\u001b[0;34m.\u001b[0m\u001b[0mto_csv\u001b[0m\u001b[0;34m(\u001b[0m\u001b[0;34m'three_step_rf_results.csv'\u001b[0m\u001b[0;34m,\u001b[0m \u001b[0mindex\u001b[0m\u001b[0;34m=\u001b[0m\u001b[0;32mFalse\u001b[0m\u001b[0;34m)\u001b[0m\u001b[0;34m\u001b[0m\u001b[0;34m\u001b[0m\u001b[0m\n\u001b[0m",
      "\u001b[0;31mAttributeError\u001b[0m: 'NoneType' object has no attribute 'to_csv'"
     ]
    }
   ],
   "source": [
    "## Write out results\n",
    "three_step_results.to_csv('three_step_rf_results.csv', index=False)"
   ]
  },
  {
   "cell_type": "code",
   "execution_count": null,
   "metadata": {},
   "outputs": [],
   "source": [
    "## 6 Step Ahead Forecast\n",
    "six_step_results = runBehemoth(grid_param,\n",
    "                               train_data,\n",
    "                               'Is_Recession',\n",
    "                               300,\n",
    "                               k_range=[1, 2, 3, 4, 5, 6],\n",
    "                               l_range=[1, 2, 3, 4, 5, 6])"
   ]
  },
  {
   "cell_type": "code",
   "execution_count": null,
   "metadata": {},
   "outputs": [],
   "source": [
    "## Write out results\n",
    "six_step_results.to_csv('six_step_rf_results.csv', index=False)"
   ]
  },
  {
   "cell_type": "code",
   "execution_count": null,
   "metadata": {},
   "outputs": [],
   "source": [
    "## 12 Step Ahead Forecast\n",
    "twelve_step_results = runBehemoth(grid_param,\n",
    "                                  train_data,\n",
    "                                  'Is_Recession',\n",
    "                                  300,\n",
    "                                  k_range=[1, 2, 3, 4, 5, 6],\n",
    "                                  l_range=[1, 2, 3, 4, 5, 6])"
   ]
  },
  {
   "cell_type": "code",
   "execution_count": null,
   "metadata": {},
   "outputs": [],
   "source": [
    "## Write out results\n",
    "twelve_step_results.to_csv('twelve_step_rf_results.csv', index=False)"
   ]
  }
 ],
 "metadata": {
  "kernelspec": {
   "display_name": "Python 3",
   "language": "python",
   "name": "python3"
  },
  "language_info": {
   "codemirror_mode": {
    "name": "ipython",
    "version": 3
   },
   "file_extension": ".py",
   "mimetype": "text/x-python",
   "name": "python",
   "nbconvert_exporter": "python",
   "pygments_lexer": "ipython3",
   "version": "3.8.5"
  }
 },
 "nbformat": 4,
 "nbformat_minor": 4
}
